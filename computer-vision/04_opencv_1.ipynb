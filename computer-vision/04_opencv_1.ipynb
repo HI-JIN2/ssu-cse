{
 "cells": [
  {
   "cell_type": "code",
   "execution_count": 2,
   "metadata": {},
   "outputs": [],
   "source": [
    "import cv2 as cv\n",
    "import numpy as np"
   ]
  },
  {
   "cell_type": "markdown",
   "metadata": {},
   "source": [
    "# 카메라와 동영상 파일 다루기"
   ]
  },
  {
   "cell_type": "code",
   "execution_count": null,
   "metadata": {},
   "outputs": [
    {
     "name": "stdout",
     "output_type": "stream",
     "text": [
      "width: 1280\n",
      "height: 720\n"
     ]
    }
   ],
   "source": [
    "cap = cv.VideoCapture(0)\n",
    "\n",
    "if not cap.isOpened():\n",
    "    print('camera open failed!')\n",
    "    exit()\n",
    "\n",
    "print(\"width:\", int(cap.get(cv.CAP_PROP_FRAME_WIDTH)))\n",
    "print(\"height:\", int(cap.get(cv.CAP_PROP_FRAME_HEIGHT)))"
   ]
  },
  {
   "cell_type": "code",
   "execution_count": 10,
   "metadata": {},
   "outputs": [
    {
     "ename": "KeyboardInterrupt",
     "evalue": "",
     "output_type": "error",
     "traceback": [
      "\u001b[0;31m---------------------------------------------------------------------------\u001b[0m",
      "\u001b[0;31mKeyboardInterrupt\u001b[0m                         Traceback (most recent call last)",
      "Cell \u001b[0;32mIn[10], line 12\u001b[0m\n\u001b[1;32m      9\u001b[0m     cv\u001b[39m.\u001b[39mimshow(\u001b[39m'\u001b[39m\u001b[39mframe\u001b[39m\u001b[39m'\u001b[39m,frame)\n\u001b[1;32m     10\u001b[0m     cv\u001b[39m.\u001b[39mimshow(\u001b[39m'\u001b[39m\u001b[39minversed\u001b[39m\u001b[39m'\u001b[39m,inversed)\n\u001b[0;32m---> 12\u001b[0m     \u001b[39mif\u001b[39;00m cv\u001b[39m.\u001b[39;49mwaitKey(\u001b[39m10\u001b[39;49m)\u001b[39m==\u001b[39m\u001b[39m27\u001b[39m:\n\u001b[1;32m     13\u001b[0m         \u001b[39m# break\u001b[39;00m\n\u001b[1;32m     14\u001b[0m         cv\u001b[39m.\u001b[39mdestroyAllWindows()  \n\u001b[1;32m     16\u001b[0m \u001b[39m# cv.destroyAllWindows()\u001b[39;00m\n",
      "\u001b[0;31mKeyboardInterrupt\u001b[0m: "
     ]
    }
   ],
   "source": [
    "while True:\n",
    "    ret, frame = cap.read()\n",
    "\n",
    "    if not ret:\n",
    "        break\n",
    "\n",
    "    inversed =~frame\n",
    "\n",
    "    cv.imshow('frame',frame)\n",
    "    cv.imshow('inversed',inversed)\n",
    "\n",
    "    if cv.waitKey(10)==27:\n",
    "        break\n",
    "        cv.destroyAllWindows()  \n",
    "\n",
    "cv.destroyAllWindows()"
   ]
  },
  {
   "cell_type": "code",
   "execution_count": 15,
   "metadata": {},
   "outputs": [
    {
     "name": "stdout",
     "output_type": "stream",
     "text": [
      "width: 2048\n",
      "height: 1080\n",
      "count: 1579\n",
      "fps: 29.97002997002997\n",
      "delay: 33\n"
     ]
    }
   ],
   "source": [
    "cap = cv.VideoCapture('sample.mp4')\n",
    "if not cap.isOpened():\n",
    "    print(\"video open failed\")\n",
    "    exit()\n",
    "\n",
    "\n",
    "print(\"width:\", int(cap.get(cv.CAP_PROP_FRAME_WIDTH)))\n",
    "print(\"height:\", int(cap.get(cv.CAP_PROP_FRAME_HEIGHT)))\n",
    "print(\"count:\",int(cap.get(cv.CAP_PROP_FRAME_COUNT)))\n",
    "\n",
    "\n",
    "fps = cap.get(cv.CAP_PROP_FPS)\n",
    "print(\"fps:\",fps)\n",
    "delay = round(1000/fps)\n",
    "print(\"delay:\",delay)\n",
    "\n",
    "while True:\n",
    "    ret, frame = cap.read()\n",
    "\n",
    "    if not ret:\n",
    "        break\n",
    "\n",
    "    inversed =~frame\n",
    "\n",
    "    cv.imshow('frame',frame)\n",
    "    cv.imshow('inversed',inversed)\n",
    "\n",
    "    if cv.waitKey(10)==27:\n",
    "        break\n",
    "        cv.destroyAllWindows()  \n",
    "\n",
    "cv.destroyAllWindows()"
   ]
  },
  {
   "cell_type": "markdown",
   "metadata": {},
   "source": [
    "영상을 읽어서 반전한 영상을 저장하기"
   ]
  },
  {
   "cell_type": "code",
   "execution_count": 16,
   "metadata": {},
   "outputs": [],
   "source": [
    "cap = cv.VideoCapture('sample.mp4')\n",
    "\n",
    "if not cap.isOpened():\n",
    "    print(\"video open failed\")\n",
    "    exit()\n",
    "\n",
    "\n",
    "w = round(cap.get(cv.CAP_PROP_FRAME_WIDTH))\n",
    "h = round(cap.get(cv.CAP_PROP_FRAME_HEIGHT))\n",
    "\n",
    "fps = cap.get(cv.CAP_PROP_FPS)\n",
    "\n",
    "fourcc =cv.VideoWriter_fourcc(*\"DIVX\")\n",
    "                               \n",
    "delay = round (1000 / fps)\n",
    "outputVideo = cv.VideoWriter ('output.avi', fourcc, fps, (w, h)) \n",
    "\n",
    "if not outputVideo.isOpened () :\n",
    "    print('File open failed!') \n",
    "    exit()\n",
    "while True:\n",
    "    ret, frame = cap.read() \n",
    "    if not ret:\n",
    "        break\n",
    "    inversed = ~frame \n",
    "    outputVideo.write(inversed)\n",
    "    \n",
    "    cv.imshow('frame', frame) \n",
    "    cv.imshow('inversed', inversed)\n",
    "    \n",
    "    if cv.waitKey(delay) == 27: \n",
    "        break\n",
    "\n",
    "cv.destroyAllWindows()"
   ]
  },
  {
   "cell_type": "markdown",
   "metadata": {},
   "source": [
    "# 다양한 그리기 함수"
   ]
  },
  {
   "cell_type": "markdown",
   "metadata": {},
   "source": [
    "img가 numpy array이다"
   ]
  },
  {
   "cell_type": "code",
   "execution_count": null,
   "metadata": {},
   "outputs": [],
   "source": [
    "img = np.full((400,400,3),255,np.uint8)"
   ]
  },
  {
   "cell_type": "code",
   "execution_count": null,
   "metadata": {},
   "outputs": [],
   "source": [
    "cv.line (img, (50, 50), (200, 50), (0, 0, 255)) \n",
    "cv.line(img, (50, 100), (200, 100), (255, 0, 255), 3) \n",
    "cv.line(img, (50, 150), (200, 150), (255, 0, 0), 10)\n",
    "cv.line(img, (250, 50), (350, 100), (0, 0, 255), 1, cv. LINE_4) \n",
    "cv.line(img, (250, 70), (350, 120), (255, 0, 255), 1, cv. LINE_8) \n",
    "cv.line(img, (250, 90), (350, 140), (255, 0, 0), 1, cv. LINE_AA)\n",
    "\n",
    "cv.arrowedLine (img, (50, 200), (150, 200), (0, 0, 255), 1) \n",
    "cv.arrowedLine(img, (50, 250), (350, 250), (255, 0, 255), 1) \n",
    "cv.arrowedLine(img, (50, 300), (350, 300), (255, 0, 0), 1, cv. LINE_8, 0, 0.05)\n",
    "\n",
    "cv.drawMarker(img, (50, 350), (0, 0, 255), cv.MARKER_CROSS) \n",
    "cv.drawMarker(img, (100, 350), (0, 0, 255), cv.MARKER_TILTED_CROSS) \n",
    "cv.drawMarker (img, (150, 350), (0, 0, 255), cv.MARKER_STAR) \n",
    "cv.drawMarker(img, (200, 350), (0, 0, 255), cv. MARKER_DIAMOND) \n",
    "cv. drawMarker(img, (250, 350), (0, 0, 255), cv.MARKER_SQUARE) \n",
    "cv.drawMarker(img, (300, 350), (0, 0, 255), cv.MARKER_TRIANGLE_UP) \n",
    "cv.drawMarker(img, (350, 350), (0, 0, 255), cv.MARKER_TRIANGLE_DOWN)\n",
    "\n",
    "cv. imshow(\"img\", img) \n",
    "cv.waitKey() \n",
    "cv.destroyAllWindows ()"
   ]
  },
  {
   "cell_type": "code",
   "execution_count": null,
   "metadata": {},
   "outputs": [],
   "source": [
    "import numpy as np \n",
    "import cv2 as cv\n",
    "\n",
    "img = np. full((400, 400, 3), 255, np.uint8)\n",
    "cv.rectangle (img, (50, 50), (150, 100), (0, 0, 255), 2) \n",
    "cv.rectangle (img, (50, 150), (150, 200), (0, 0, 128), -1)\n",
    "cv.circle(img, (300, 120), 30, (255, 255, 0), -1, cv.LINE_AA) \n",
    "cv.circle(img, (300, 120), 60, (255, 0, 0), 3, cv. LINE_AA)\n",
    "\n",
    "cv.ellipse(img, (120, 300), (60, 30), 20, 0, 270, (255, 255, 0), cv.FILLED, cv. LINE_AA) \n",
    "cv.ellipse(img, (120, 300), (100, 50), 20, 0, 360, (0, 255, 0), 2, cv. LINE_AA)\n",
    "\n",
    "pts = np.array ([[250, 250], [300, 250], [300, 300], [350, 300], [350, 350], [250, 350]])\n",
    "cv.polylines (img, [pts], True, (255, 0, 255), 2)\n",
    "\n",
    "cv.imshow (\"img\", img) \n",
    "cv.waitKey()\n",
    "cv. destroyAllWindows ()"
   ]
  },
  {
   "cell_type": "code",
   "execution_count": null,
   "metadata": {},
   "outputs": [],
   "source": [
    "import numpy as np\n",
    "import cv2\n",
    "\n",
    "def drawLines():\n",
    "    img = np.full((400, 400, 3), 255, np.uint8)\n",
    "\n",
    "    cv2.line(img, (50, 50), (200, 50), (0, 0, 255))\n",
    "    cv2.line(img, (50, 100), (200, 100), (255, 0, 255), 3)\n",
    "    cv2.line(img, (50, 150), (200, 150), (255, 0, 0), 10)\n",
    "\n",
    "    cv2.line(img, (250, 50), (350, 100), (0, 0, 255), 1, cv2.LINE_4)\n",
    "    cv2.line(img, (250, 70), (350, 120), (255, 0, 255), 1, cv2.LINE_8)\n",
    "    cv2.line(img, (250, 90), (350, 140), (255, 0, 0), 1, cv2.LINE_AA)\n",
    "\n",
    "    cv2.arrowedLine(img, (50, 200), (150, 200), (0, 0, 255), 1)\n",
    "    cv2.arrowedLine(img, (50, 250), (350, 250), (255, 0, 255), 1)\n",
    "    cv2.arrowedLine(img, (50, 300), (350, 300), (255, 0, 0), 1, cv2.LINE_8, 0, 0.05)\n",
    "\n",
    "    cv2.drawMarker(img, (50, 350), (0, 0, 255), cv2.MARKER_CROSS)\n",
    "    cv2.drawMarker(img, (100, 350), (0, 0, 255), cv2.MARKER_TILTED_CROSS)\n",
    "    cv2.drawMarker(img, (150, 350), (0, 0, 255), cv2.MARKER_STAR)\n",
    "    cv2.drawMarker(img, (200, 350), (0, 0, 255), cv2.MARKER_DIAMOND)\n",
    "    cv2.drawMarker(img, (250, 350), (0, 0, 255), cv2.MARKER_SQUARE)\n",
    "    cv2.drawMarker(img, (300, 350), (0, 0, 255), cv2.MARKER_TRIANGLE_UP)\n",
    "    cv2.drawMarker(img, (350, 350), (0, 0, 255), cv2.MARKER_TRIANGLE_DOWN)\n",
    "\n",
    "    cv2.imshow(\"img\", img)\n",
    "    cv2.waitKey()\n",
    "    cv2.destroyAllWindows()\n",
    "\n",
    "def drawPolys():\n",
    "    img = np.full((400, 400, 3), 255, np.uint8)\n",
    "\n",
    "    cv2.rectangle(img, (50, 50), (150, 100), (0, 0, 255), 2)\n",
    "    cv2.rectangle(img, (50, 150), (150, 200), (0, 0, 128), -1)\n",
    "\n",
    "    cv2.circle(img, (300, 120), 30, (255, 255, 0), -1, cv2.LINE_AA)\n",
    "    cv2.circle(img, (300, 120), 60, (255, 0, 0), 3, cv2.LINE_AA)\n",
    "\n",
    "    cv2.ellipse(img, (120, 300), (60, 30), 20, 0, 270, (255, 255, 0), cv2.FILLED, cv2.LINE_AA)\n",
    "    cv2.ellipse(img, (120, 300), (100, 50), 20, 0, 360, (0, 255, 0), 2, cv2.LINE_AA)\n",
    "\n",
    "    pts = np.array([[250, 250], [300, 250], [300, 300], [350, 300], [350, 350], [250, 350]])\n",
    "    cv2.polylines(img, [pts], True, (255, 0, 255), 2)\n",
    "\n",
    "    cv2.imshow(\"img\", img)\n",
    "    cv2.waitKey()\n",
    "    cv2.destroyAllWindows()\n",
    "\n",
    "def drawText1():\n",
    "    img = np.full((500, 800, 3), 255, np.uint8)\n",
    "\n",
    "    cv2.putText(img, \"FONT_HERSHEY_SIMPLEX\", (20, 50), cv2.FONT_HERSHEY_SIMPLEX, 1, (0, 0, 255))\n",
    "    cv2.putText(img, \"FONT_HERSHEY_PLAIN\", (20, 100), cv2.FONT_HERSHEY_PLAIN, 1, (0, 0, 255))\n",
    "    cv2.putText(img, \"FONT_HERSHEY_DUPLEX\", (20, 150), cv2.FONT_HERSHEY_DUPLEX, 1, (0, 0, 255))\n",
    "    cv2.putText(img, \"FONT_HERSHEY_COMPLEX\", (20, 200), cv2.FONT_HERSHEY_COMPLEX, 1, (255, 0, 0))\n",
    "    cv2.putText(img, \"FONT_HERSHEY_TRIPLEX\", (20, 250), cv2.FONT_HERSHEY_TRIPLEX, 1, (255, 0, 0))\n",
    "    cv2.putText(img, \"FONT_HERSHEY_COMPLEX_SMALL\", (20, 300), cv2.FONT_HERSHEY_COMPLEX_SMALL, 1, (255, 0, 0))\n",
    "    cv2.putText(img, \"FONT_HERSHEY_SCRIPT_SIMPLEX\", (20, 350), cv2.FONT_HERSHEY_SCRIPT_SIMPLEX, 1, (255, 0, 255))\n",
    "    cv2.putText(img, \"FONT_HERSHEY_SCRIPT_COMPLEX\", (20, 400), cv2.FONT_HERSHEY_SCRIPT_COMPLEX, 1, (255, 0, 255))\n",
    "    cv2.putText(img, \"FONT_HERSHEY_COMPLEX | FONT_ITALIC\", (20, 450), cv2.FONT_HERSHEY_COMPLEX | cv2.FONT_ITALIC, 1, (255, 0, 0))\n",
    "\n",
    "    cv2.imshow(\"img\", img)\n",
    "    cv2.waitKey()\n",
    "    cv2.destroyAllWindows()\n",
    "\n",
    "def drawText2():\n",
    "    img = np.full((200, 640, 3), 255, np.uint8)\n",
    "\n",
    "    text = \"Hello, OpenCV\"\n",
    "    fontFace = cv2.FONT_HERSHEY_TRIPLEX\n",
    "    fontScale = 2.0\n",
    "    thickness = 1\n",
    "\n",
    "    sizeText, _ = cv2.getTextSize(text, fontFace, fontScale, thickness)\n",
    "\n",
    "    org = ((img.shape[1] - sizeText[0]) // 2, (img.shape[0] + sizeText[1]) // 2)\n",
    "    cv2.putText(img, text, org, fontFace, fontScale, (255, 0, 0), thickness)\n",
    "    cv2.rectangle(img, org, (org[0] + sizeText[0], org[1] - sizeText[1]), (0, 255, 0), 1)\n",
    "\n",
    "    cv2.imshow(\"img\", img)\n",
    "    cv2.waitKey()\n",
    "    cv2.destroyAllWindows()\n",
    "\n",
    "if __name__ == '__main__':\n",
    "    drawLines()\n",
    "    drawPolys()\n",
    "    drawText1()\n",
    "    drawText2()"
   ]
  },
  {
   "cell_type": "code",
   "execution_count": null,
   "metadata": {},
   "outputs": [],
   "source": []
  }
 ],
 "metadata": {
  "kernelspec": {
   "display_name": "Python 3",
   "language": "python",
   "name": "python3"
  },
  "language_info": {
   "codemirror_mode": {
    "name": "ipython",
    "version": 3
   },
   "file_extension": ".py",
   "mimetype": "text/x-python",
   "name": "python",
   "nbconvert_exporter": "python",
   "pygments_lexer": "ipython3",
   "version": "3.11.6"
  },
  "orig_nbformat": 4
 },
 "nbformat": 4,
 "nbformat_minor": 2
}
