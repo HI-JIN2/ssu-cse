{
 "cells": [
  {
   "cell_type": "code",
   "execution_count": null,
   "metadata": {},
   "outputs": [],
   "source": [
    "import numpy as np"
   ]
  },
  {
   "cell_type": "code",
   "execution_count": 2,
   "metadata": {},
   "outputs": [
    {
     "name": "stdout",
     "output_type": "stream",
     "text": [
      "[1, 4, 2, 5, 3]\n",
      "<class 'list'>\n",
      "[1 4 2 5 3]\n",
      "<class 'numpy.ndarray'>\n"
     ]
    }
   ],
   "source": [
    "arr = [1,4,2,5,3]\n",
    "n_arr = np.array(arr)\n",
    "print(arr)\n",
    "print(type(arr))\n",
    "\n",
    "print(n_arr)\n",
    "print(type(n_arr))"
   ]
  },
  {
   "cell_type": "code",
   "execution_count": 7,
   "metadata": {},
   "outputs": [
    {
     "name": "stdout",
     "output_type": "stream",
     "text": [
      "[3.14, 2, 5, 3]\n",
      "<class 'list'>\n",
      "[3.14 2.   5.   3.  ]\n",
      "<class 'numpy.ndarray'>\n"
     ]
    }
   ],
   "source": [
    "arr = [3.14, 2, 5,3]\n",
    "n_arr = np.array(arr)\n",
    "\n",
    "print(arr)\n",
    "print(type(arr))\n",
    "\n",
    "print(n_arr)\n",
    "print(type(n_arr))"
   ]
  },
  {
   "cell_type": "code",
   "execution_count": 8,
   "metadata": {},
   "outputs": [
    {
     "name": "stdout",
     "output_type": "stream",
     "text": [
      "['3.14', 2, 5, 3]\n",
      "<class 'list'>\n",
      "['3.14' '2' '5' '3']\n",
      "<class 'numpy.ndarray'>\n"
     ]
    }
   ],
   "source": [
    "arr = ['3.14', 2, 5,3]\n",
    "n_arr = np.array(arr)\n",
    "\n",
    "print(arr)\n",
    "print(type(arr))\n",
    "\n",
    "print(n_arr) #다 string으로 되어림\n",
    "print(type(n_arr))"
   ]
  },
  {
   "cell_type": "code",
   "execution_count": 9,
   "metadata": {},
   "outputs": [
    {
     "name": "stdout",
     "output_type": "stream",
     "text": [
      "[1, 4, 2, 5, 3]\n",
      "<class 'list'>\n",
      "[1. 4. 2. 5. 3.]\n",
      "<class 'numpy.ndarray'>\n"
     ]
    }
   ],
   "source": [
    "arr = [1,4,2,5,3]\n",
    "n_arr = np.array(arr, dtype='float32')\n",
    "print(arr)\n",
    "print(type(arr))\n",
    "\n",
    "print(n_arr)\n",
    "print(type(n_arr))"
   ]
  },
  {
   "cell_type": "code",
   "execution_count": 13,
   "metadata": {},
   "outputs": [
    {
     "name": "stdout",
     "output_type": "stream",
     "text": [
      "['3.14', 2.0, 5, 3]\n",
      "<class 'list'>\n",
      "[3.14 2.   5.   3.  ]\n",
      "<class 'numpy.ndarray'>\n"
     ]
    }
   ],
   "source": [
    "arr = ['3.14', 2., 5,3]\n",
    "n_arr = np.array(arr, dtype='float32')\n",
    "\n",
    "print(arr)\n",
    "print(type(arr))\n",
    "\n",
    "print(n_arr)\n",
    "print(type(n_arr))"
   ]
  },
  {
   "cell_type": "code",
   "execution_count": 14,
   "metadata": {},
   "outputs": [
    {
     "name": "stdout",
     "output_type": "stream",
     "text": [
      "['3.14', 2.0, 5, 3]\n",
      "<class 'list'>\n",
      "[3.14 2.   5.   3.  ]\n",
      "<class 'numpy.ndarray'>\n"
     ]
    }
   ],
   "source": [
    "arr = ['3.14', 2., 5,3]\n",
    "n_arr = np.array(arr, dtype='float64')\n",
    "\n",
    "print(arr)\n",
    "print(type(arr))\n",
    "\n",
    "print(n_arr)\n",
    "print(type(n_arr))"
   ]
  },
  {
   "cell_type": "code",
   "execution_count": 15,
   "metadata": {},
   "outputs": [
    {
     "name": "stdout",
     "output_type": "stream",
     "text": [
      "[1 4 2 5 3]\n",
      "1\n",
      "(5,)\n",
      "1\n",
      "5\n"
     ]
    }
   ],
   "source": [
    "nums = np.array([1,4,2,5,3])\n",
    "print(nums)\n",
    "print(nums.ndim) #rank 차원의 수 \n",
    "print(nums.shape) #배열의 모양\n",
    "print(len(nums.shape))\n",
    "print(nums.size) #항목의 수 /len을 쓰면 다차원 배열에서 문제가 생김"
   ]
  },
  {
   "cell_type": "code",
   "execution_count": 16,
   "metadata": {},
   "outputs": [
    {
     "name": "stdout",
     "output_type": "stream",
     "text": [
      "4\n",
      "[1 4 2]\n",
      "[2 5]\n"
     ]
    }
   ],
   "source": [
    "nums = np.array([1,4,2,5,3])\n",
    "print(nums[1])\n",
    "print(nums[:3])\n",
    "print(nums[2:4])"
   ]
  },
  {
   "cell_type": "code",
   "execution_count": 17,
   "metadata": {},
   "outputs": [
    {
     "name": "stdout",
     "output_type": "stream",
     "text": [
      "[1 2 3]\n"
     ]
    }
   ],
   "source": [
    "nums = np.array([1,4,2,5,3])\n",
    "print(nums[::2])"
   ]
  },
  {
   "cell_type": "markdown",
   "metadata": {},
   "source": [
    "2차원 배열"
   ]
  },
  {
   "cell_type": "code",
   "execution_count": 18,
   "metadata": {},
   "outputs": [
    {
     "name": "stdout",
     "output_type": "stream",
     "text": [
      "[[1 4 2]\n",
      " [7 5 3]]\n"
     ]
    }
   ],
   "source": [
    "nums = np.array([[1,4,2],[7,5,3]])\n",
    "print(nums)"
   ]
  },
  {
   "cell_type": "code",
   "execution_count": 19,
   "metadata": {},
   "outputs": [
    {
     "name": "stdout",
     "output_type": "stream",
     "text": [
      "[[1 4 2]\n",
      " [7 5 3]]\n",
      "2\n",
      "(2, 3)\n",
      "2\n",
      "6\n"
     ]
    }
   ],
   "source": [
    "nums = np.array([[1,4,2],[7,5,3]])\n",
    "print(nums)\n",
    "print(nums.ndim) #rank 차원의 수 \n",
    "print(nums.shape) #배열의 모양\n",
    "print(len(nums.shape))\n",
    "print(nums.size) #항목의 수 /len을 쓰면 다차원 배열에서 문제가 생김"
   ]
  },
  {
   "cell_type": "code",
   "execution_count": 20,
   "metadata": {},
   "outputs": [
    {
     "name": "stdout",
     "output_type": "stream",
     "text": [
      "[[1 4 2]\n",
      " [7 5 3]]\n",
      "2\n",
      "2\n"
     ]
    }
   ],
   "source": [
    "nums = np.array([[1,4,2],[7,5,3]])\n",
    "print(nums)\n",
    "print(nums[0,2])\n",
    "print(nums[0][2])"
   ]
  },
  {
   "cell_type": "code",
   "execution_count": 21,
   "metadata": {},
   "outputs": [
    {
     "name": "stdout",
     "output_type": "stream",
     "text": [
      "[[1 4 2]\n",
      " [7 5 3]]\n",
      "[[1 4 2]]\n",
      "[[1 4 2]]\n",
      "[[4]\n",
      " [5]]\n",
      "[5 3]\n",
      "[[4 2]\n",
      " [5 3]]\n"
     ]
    }
   ],
   "source": [
    "nums = np.array([[1,4,2],[7,5,3]])\n",
    "print(nums)\n",
    "print(nums[0:1,]) \n",
    "print(nums[0:1,:])\n",
    "print(nums[:,1:2])\n",
    "print(nums[1, 1:])\n",
    "print(nums[0:, 1:])"
   ]
  },
  {
   "cell_type": "code",
   "execution_count": 4,
   "metadata": {},
   "outputs": [
    {
     "name": "stdout",
     "output_type": "stream",
     "text": [
      "[[1 4 2]]\n",
      "[[1 4 2]]\n",
      "[1 4 2]\n"
     ]
    }
   ],
   "source": [
    "nums = np.array([[1,4,2],[7,5,3]])\n",
    "print(nums[0:1,]) #2차원 배열의 희망이 있음\n",
    "print(nums[0:1,:]) #2차원 배열의 희망이 있음\n",
    "print(nums[0,:]) #아예 박아버림"
   ]
  },
  {
   "cell_type": "code",
   "execution_count": 9,
   "metadata": {},
   "outputs": [
    {
     "name": "stdout",
     "output_type": "stream",
     "text": [
      "5\n",
      "[7 5]\n",
      "[[2]\n",
      " [3]]\n",
      "[[1 4]\n",
      " [7 5]]\n"
     ]
    }
   ],
   "source": [
    "nums = np.array([[1,4,2],[7,5,3]])\n",
    "print(nums[1,1]) \n",
    "print(nums[1,:2])\n",
    "print(nums[:,2:]) #잘 생각해보삼. 2차원으로 만들려면\n",
    "print(nums[:,0:2]) "
   ]
  },
  {
   "cell_type": "code",
   "execution_count": 10,
   "metadata": {},
   "outputs": [
    {
     "name": "stdout",
     "output_type": "stream",
     "text": [
      "3\n",
      "0\n",
      "()\n"
     ]
    }
   ],
   "source": [
    "nums = np.array(3)\n",
    "print(nums)\n",
    "print(nums.ndim)\n",
    "print(nums.shape)"
   ]
  },
  {
   "cell_type": "markdown",
   "metadata": {},
   "source": [
    "3차원 배열"
   ]
  },
  {
   "cell_type": "code",
   "execution_count": 12,
   "metadata": {},
   "outputs": [
    {
     "name": "stdout",
     "output_type": "stream",
     "text": [
      "[[[1 4 2]\n",
      "  [7 5 3]]\n",
      "\n",
      " [[0 4 8]\n",
      "  [6 9 1]]\n",
      "\n",
      " [[7 6 9]\n",
      "  [4 0 8]]]\n"
     ]
    }
   ],
   "source": [
    "nums = np.array([[[1,4,2],[7,5,3]],\n",
    "                 [[0,4,8],[6,9,1]],\n",
    "                 [[7,6,9],[4,0,8]]])\n",
    "print(nums)"
   ]
  },
  {
   "cell_type": "code",
   "execution_count": 14,
   "metadata": {},
   "outputs": [
    {
     "name": "stdout",
     "output_type": "stream",
     "text": [
      "[4 2 5]\n",
      "[4 2 5]\n",
      "[ 4 10  5]\n",
      "[4 2 5]\n"
     ]
    }
   ],
   "source": [
    "nums = np.array([1,4,2,5,3])\n",
    "ref = nums[1:4]\n",
    "cpy = nums[1:4].copy()\n",
    "print(ref)\n",
    "print(cpy)\n",
    "\n",
    "nums[2]=10\n",
    "print(ref) #본품은 변함\n",
    "print(cpy)"
   ]
  },
  {
   "cell_type": "code",
   "execution_count": 16,
   "metadata": {},
   "outputs": [
    {
     "name": "stdout",
     "output_type": "stream",
     "text": [
      "[[0. 0.]\n",
      " [0. 0.]]\n",
      "[[1. 1.]]\n",
      "[[7 7]\n",
      " [7 7]]\n"
     ]
    }
   ],
   "source": [
    "print(np.zeros((2,2)))\n",
    "print(np.ones((1,2)))\n",
    "print(np.full((2,2),7))"
   ]
  },
  {
   "cell_type": "code",
   "execution_count": 17,
   "metadata": {},
   "outputs": [
    {
     "name": "stdout",
     "output_type": "stream",
     "text": [
      "[[1. 0. 0.]\n",
      " [0. 1. 0.]\n",
      " [0. 0. 1.]]\n",
      "[[1. 0. 0.]\n",
      " [0. 1. 0.]\n",
      " [0. 0. 1.]]\n",
      "[[0. 1. 0.]\n",
      " [0. 0. 1.]\n",
      " [0. 0. 0.]]\n",
      "[[0. 0. 0.]\n",
      " [0. 0. 0.]\n",
      " [1. 0. 0.]]\n"
     ]
    }
   ],
   "source": [
    "print(np.identity(3)) #단위행렬\n",
    "print(np.eye(3)) \n",
    "print(np.eye(3, k=1)) #단위행렬에서 k만큼 이동\n",
    "print(np.eye(3, k=-2))"
   ]
  },
  {
   "cell_type": "code",
   "execution_count": 18,
   "metadata": {},
   "outputs": [
    {
     "name": "stdout",
     "output_type": "stream",
     "text": [
      "[[0.97456145 0.91514938]\n",
      " [0.39594175 0.34640834]]\n"
     ]
    }
   ],
   "source": [
    "print(np.random.random((2,2)))"
   ]
  },
  {
   "cell_type": "code",
   "execution_count": 20,
   "metadata": {},
   "outputs": [
    {
     "name": "stdout",
     "output_type": "stream",
     "text": [
      "2.0397605979372595\n",
      "[[3 3]\n",
      " [8 9]]\n"
     ]
    }
   ],
   "source": [
    "print(np.random.normal(2,2)) #정규분포\n",
    "print(np.random.randint(1,10,(2,2))) #정수형 low, high, shape"
   ]
  },
  {
   "cell_type": "code",
   "execution_count": 21,
   "metadata": {},
   "outputs": [
    {
     "name": "stdout",
     "output_type": "stream",
     "text": [
      "[0.   0.25 0.5  0.75 1.  ]\n",
      "[0.  0.2 0.4 0.6 0.8]\n",
      "(array([0. , 0.2, 0.4, 0.6, 0.8]), 0.2)\n"
     ]
    }
   ],
   "source": [
    "print(np.linspace(0,1,num=5, endpoint=True)) #끝값 포함 0\n",
    "print(np.linspace(0,1,num=5, endpoint=False))\n",
    "print(np.linspace(0,1,num=5, endpoint=False, retstep=True)) #step의 크기 반환 0"
   ]
  },
  {
   "cell_type": "code",
   "execution_count": 22,
   "metadata": {},
   "outputs": [
    {
     "name": "stdout",
     "output_type": "stream",
     "text": [
      "[0.4 0.5 0.6 0.7 0.8 0.9 1. ]\n"
     ]
    }
   ],
   "source": [
    "print(np.arange(0.4, 1.1, 0.1)) #start, end, step / end 포함 x"
   ]
  },
  {
   "cell_type": "code",
   "execution_count": 23,
   "metadata": {},
   "outputs": [
    {
     "name": "stdout",
     "output_type": "stream",
     "text": [
      "['MMM' 'ABT' 'ABBV' 'ACN' 'ACE' 'ATVI' 'ADBE' 'ADT']\n",
      "[['MMM' 'ABT' 'ABBV' 'ACN']\n",
      " ['ACE' 'ATVI' 'ADBE' 'ADT']]\n"
     ]
    }
   ],
   "source": [
    "sap= np.array([\"MMM\", \"ABT\", \"ABBV\", \"ACN\", \"ACE\", \"ATVI\", \"ADBE\", \"ADT\" ])\n",
    "\n",
    "print (sap)\n",
    "sap2d = sap. reshape (2, 4)\n",
    "print (sap2d)"
   ]
  },
  {
   "cell_type": "code",
   "execution_count": 24,
   "metadata": {},
   "outputs": [
    {
     "name": "stdout",
     "output_type": "stream",
     "text": [
      "[['MMM' 'ACE']\n",
      " ['ABT' 'ATVI']\n",
      " ['ABBV' 'ADBE']\n",
      " ['ACN' 'ADT']]\n"
     ]
    }
   ],
   "source": [
    "print(sap2d.T) #전치"
   ]
  },
  {
   "cell_type": "code",
   "execution_count": 25,
   "metadata": {},
   "outputs": [
    {
     "name": "stdout",
     "output_type": "stream",
     "text": [
      "[['MMM' 'ACE']\n",
      " ['ABT' 'ATVI']\n",
      " ['ABBV' 'ADBE']\n",
      " ['ACN' 'ADT']]\n"
     ]
    }
   ],
   "source": [
    "print(sap2d.swapaxes(0,1)) #축1과 축2를 맞바꿈"
   ]
  },
  {
   "cell_type": "code",
   "execution_count": 26,
   "metadata": {},
   "outputs": [
    {
     "name": "stdout",
     "output_type": "stream",
     "text": [
      "[[['MMM' 'ABT']\n",
      "  ['ABBV' 'ACN']]\n",
      "\n",
      " [['ACE' 'ATVI']\n",
      "  ['ADBE' 'ADT']]] \n",
      "\n",
      "[[['MMM' 'ABBV']\n",
      "  ['ABT' 'ACN']]\n",
      "\n",
      " [['ACE' 'ADBE']\n",
      "  ['ATVI' 'ADT']]]\n"
     ]
    }
   ],
   "source": [
    "sap3d = sap.reshape(2,2,2)\n",
    "print(sap3d,'\\n')\n",
    "print(sap3d.swapaxes(1,2))"
   ]
  },
  {
   "cell_type": "code",
   "execution_count": 27,
   "metadata": {},
   "outputs": [
    {
     "name": "stdout",
     "output_type": "stream",
     "text": [
      "[['MMM' 'ABT' 'ABBV' 'ACN']\n",
      " ['ACE' 'ATVI' 'ADBE' 'ADT']]\n",
      "[['MMM' 'ACE']\n",
      " ['ABT' 'ATVI']\n",
      " ['ABBV' 'ADBE']\n",
      " ['ACN' 'ADT']]\n",
      "[['MMM' 'ACE']\n",
      " ['ABT' 'ATVI']\n",
      " ['ABBV' 'ADBE']\n",
      " ['ACN' 'ADT']]\n",
      "[['MMM' 'ACE']\n",
      " ['ABT' 'ATVI']\n",
      " ['ABBV' 'ADBE']\n",
      " ['ACN' 'ADT']]\n",
      "[['MMM' 'ABT' 'ABBV' 'ACN']\n",
      " ['ACE' 'ATVI' 'ADBE' 'ADT']]\n"
     ]
    }
   ],
   "source": [
    "print(sap2d)\n",
    "print(sap2d.T)\n",
    "print(sap2d.swapaxes(0,1))\n",
    "print(sap2d.transpose(1,0))\n",
    "print(sap2d.transpose(0,1))"
   ]
  },
  {
   "cell_type": "markdown",
   "metadata": {},
   "source": [
    "배열의 연결\n"
   ]
  },
  {
   "cell_type": "code",
   "execution_count": 28,
   "metadata": {},
   "outputs": [
    {
     "name": "stdout",
     "output_type": "stream",
     "text": [
      "[1 2 3 3 2 1]\n"
     ]
    }
   ],
   "source": [
    "x = np.array([1,2,3])\n",
    "y = np.array([3,2,1])\n",
    "print(np.concatenate([x,y]))"
   ]
  },
  {
   "cell_type": "code",
   "execution_count": 29,
   "metadata": {},
   "outputs": [
    {
     "name": "stdout",
     "output_type": "stream",
     "text": [
      "[1 2 3 3 2 1 4 5 6]\n"
     ]
    }
   ],
   "source": [
    "x = np.array([1,2,3])\n",
    "y = np.array([3,2,1])\n",
    "z = np.array([4,5,6])\n",
    "print(np.concatenate([x,y,z]))"
   ]
  },
  {
   "cell_type": "code",
   "execution_count": 30,
   "metadata": {},
   "outputs": [
    {
     "name": "stdout",
     "output_type": "stream",
     "text": [
      "[[1 2 3]\n",
      " [4 5 6]\n",
      " [1 2 3]\n",
      " [4 5 6]]\n"
     ]
    }
   ],
   "source": [
    "grid = np.array([[1,2,3],\n",
    "                 [4,5,6]])\n",
    "print(np.concatenate([grid, grid]))"
   ]
  },
  {
   "cell_type": "code",
   "execution_count": 36,
   "metadata": {},
   "outputs": [
    {
     "name": "stdout",
     "output_type": "stream",
     "text": [
      "[[9 8 7]\n",
      " [1 2 3]\n",
      " [4 5 6]]\n"
     ]
    }
   ],
   "source": [
    "x = np.array([9,8,7])\n",
    "grid = np.array([[1,2,3],\n",
    "                 [4,5,6]])\n",
    "print(np.vstack([x, grid]))"
   ]
  },
  {
   "cell_type": "code",
   "execution_count": 37,
   "metadata": {},
   "outputs": [
    {
     "name": "stdout",
     "output_type": "stream",
     "text": [
      "[[9 1 2 3]\n",
      " [8 4 5 6]]\n"
     ]
    }
   ],
   "source": [
    "x = np.array([[9],[8]])\n",
    "grid = np.array([[1,2,3],\n",
    "                 [4,5,6]])\n",
    "print(np.hstack([x, grid]))"
   ]
  },
  {
   "cell_type": "markdown",
   "metadata": {},
   "source": [
    "분할"
   ]
  },
  {
   "cell_type": "code",
   "execution_count": 38,
   "metadata": {},
   "outputs": [
    {
     "name": "stdout",
     "output_type": "stream",
     "text": [
      "[1 2 3] [99 99] [3 2 1]\n"
     ]
    }
   ],
   "source": [
    "x = [1,2,3,99,99,3,2,1]\n",
    "x1,x2,x3=np.split(x,[3,5]) #배열명, 분할 지점의 리스트. 3 앞에서 끊고 5 앞에서 끊고\n",
    "print(x1,x2,x3)"
   ]
  },
  {
   "cell_type": "code",
   "execution_count": 39,
   "metadata": {},
   "outputs": [
    {
     "name": "stdout",
     "output_type": "stream",
     "text": [
      "[[ 0  1  2  3]\n",
      " [ 4  5  6  7]\n",
      " [ 8  9 10 11]\n",
      " [12 13 14 15]]\n"
     ]
    }
   ],
   "source": [
    "grid = np.arange(16).reshape((4,4))\n",
    "print(grid)"
   ]
  },
  {
   "cell_type": "code",
   "execution_count": 41,
   "metadata": {},
   "outputs": [
    {
     "name": "stdout",
     "output_type": "stream",
     "text": [
      "[[0 1 2 3]\n",
      " [4 5 6 7]]\n",
      "[[ 8  9 10 11]\n",
      " [12 13 14 15]]\n"
     ]
    }
   ],
   "source": [
    "grid = np.arange(16).reshape((4,4))\n",
    "upper, lower = np.split(grid,[2]) #2차원 분할???\n",
    "print(upper)\n",
    "print(lower)"
   ]
  },
  {
   "cell_type": "code",
   "execution_count": 47,
   "metadata": {},
   "outputs": [
    {
     "name": "stdout",
     "output_type": "stream",
     "text": [
      "[[ 0  1]\n",
      " [ 4  5]\n",
      " [ 8  9]\n",
      " [12 13]]\n",
      "[[ 2  3]\n",
      " [ 6  7]\n",
      " [10 11]\n",
      " [14 15]]\n"
     ]
    }
   ],
   "source": [
    "grid = np.arange(16).reshape((4,4))\n",
    "x,y=np.split(grid,[2],axis=1)\n",
    "print(x)\n",
    "print(y)"
   ]
  },
  {
   "cell_type": "code",
   "execution_count": 48,
   "metadata": {},
   "outputs": [
    {
     "name": "stdout",
     "output_type": "stream",
     "text": [
      "[[0 1 2 3]]\n",
      "[[ 4  5  6  7]\n",
      " [ 8  9 10 11]\n",
      " [12 13 14 15]]\n"
     ]
    }
   ],
   "source": [
    "grid = np.arange(16).reshape((4,4))\n",
    "upper,lower = np.vsplit(grid,[1]) #1 앞으로 잘라.  axis=0\n",
    "print(upper)\n",
    "print(lower)"
   ]
  },
  {
   "cell_type": "code",
   "execution_count": 50,
   "metadata": {},
   "outputs": [
    {
     "name": "stdout",
     "output_type": "stream",
     "text": [
      "[[ 0]\n",
      " [ 4]\n",
      " [ 8]\n",
      " [12]]\n",
      "[[ 1  2  3]\n",
      " [ 5  6  7]\n",
      " [ 9 10 11]\n",
      " [13 14 15]]\n"
     ]
    }
   ],
   "source": [
    "grid = np.arange(16).reshape((4,4))\n",
    "left, right = np.hsplit(grid,[1]) #axis=1\n",
    "print(left)\n",
    "print(right)"
   ]
  },
  {
   "cell_type": "code",
   "execution_count": 51,
   "metadata": {},
   "outputs": [
    {
     "name": "stdout",
     "output_type": "stream",
     "text": [
      "[37.77777778 26.66666667 21.11111111 32.22222222 43.33333333]\n"
     ]
    }
   ],
   "source": [
    "arr = [100, 80, 70, 90 ,110]\n",
    "n_arr = np.array(arr)\n",
    "print((n_arr-32)*5/9) #넘파이 배열 -> 벡터화 연산 가능"
   ]
  },
  {
   "cell_type": "code",
   "execution_count": 52,
   "metadata": {},
   "outputs": [
    {
     "name": "stdout",
     "output_type": "stream",
     "text": [
      "x\t= [0 1 2 3]\n",
      "x+5\t= [5 6 7 8]\n",
      "x-5\t= [-5 -4 -3 -2]\n",
      "x*2\t= [0 2 4 6]\n",
      "x/2\t= [0.  0.5 1.  1.5]\n"
     ]
    }
   ],
   "source": [
    "x = np.arange(4)\n",
    "print(\"x\\t=\",x)\n",
    "print(\"x+5\\t=\", x+5)\n",
    "print(\"x-5\\t=\", x-5)\n",
    "print(\"x*2\\t=\", x*2)\n",
    "print(\"x/2\\t=\", x/2)"
   ]
  },
  {
   "cell_type": "code",
   "execution_count": 53,
   "metadata": {},
   "outputs": [
    {
     "name": "stdout",
     "output_type": "stream",
     "text": [
      "[5 6 7]\n"
     ]
    }
   ],
   "source": [
    "a = np.array([0,1,2])\n",
    "b = np.array([5,5,5])\n",
    "print(a+b) #각 요소에 대한 연산 가능 -> 브로드캐스팅"
   ]
  },
  {
   "cell_type": "code",
   "execution_count": 54,
   "metadata": {},
   "outputs": [
    {
     "name": "stdout",
     "output_type": "stream",
     "text": [
      "[5 6 7]\n"
     ]
    }
   ],
   "source": [
    "a = np.array([0,1,2])\n",
    "b = 5\n",
    "print(a+b) #각 요소에 대한 연산 가능 -> 브로드캐스팅 <- 5가 자동으로 3개 생김"
   ]
  },
  {
   "cell_type": "code",
   "execution_count": 55,
   "metadata": {},
   "outputs": [
    {
     "name": "stdout",
     "output_type": "stream",
     "text": [
      "[[1. 0. 0. 0.]\n",
      " [0. 1. 0. 0.]\n",
      " [0. 0. 1. 0.]\n",
      " [0. 0. 0. 1.]]\n",
      "[1. 1. 1. 1.]\n",
      "[[1.01 0.01 0.01 0.01]\n",
      " [0.01 1.01 0.01 0.01]\n",
      " [0.01 0.01 1.01 0.01]\n",
      " [0.01 0.01 0.01 1.01]]\n"
     ]
    }
   ],
   "source": [
    "noise = np.eye(4)+0.01*np.ones((4,4))\n",
    "print(np.eye(4)) #4*4 단위 행렬\n",
    "print(np.ones((4,))) #1이 4개로 이루어진 1차원행렬\n",
    "print(noise) #4*4 + 4*1 이 4*4로 브로드캐스팅됨"
   ]
  },
  {
   "cell_type": "code",
   "execution_count": 57,
   "metadata": {},
   "outputs": [
    {
     "name": "stdout",
     "output_type": "stream",
     "text": [
      "[[1. 1.]\n",
      " [1. 1.]\n",
      " [1. 1.]]\n"
     ]
    }
   ],
   "source": [
    "M = np.ones((3,2))\n",
    "a = np.arange(3)\n",
    "print(M)"
   ]
  },
  {
   "cell_type": "code",
   "execution_count": 58,
   "metadata": {},
   "outputs": [
    {
     "name": "stdout",
     "output_type": "stream",
     "text": [
      "[0 1 2]\n"
     ]
    }
   ],
   "source": [
    "a = np.array([0,-1,2])\n",
    "print(abs(a))"
   ]
  },
  {
   "cell_type": "code",
   "execution_count": 59,
   "metadata": {},
   "outputs": [
    {
     "name": "stdout",
     "output_type": "stream",
     "text": [
      "[0 1 2]\n"
     ]
    }
   ],
   "source": [
    "a = np.array([0,-1,2])\n",
    "print(np.absolute(a))"
   ]
  },
  {
   "cell_type": "code",
   "execution_count": 60,
   "metadata": {},
   "outputs": [
    {
     "name": "stdout",
     "output_type": "stream",
     "text": [
      "3.0\n"
     ]
    }
   ],
   "source": [
    "grid = np.array([[1,2,3],\n",
    "                 [4,6,2]])\n",
    "print(np.mean(grid))"
   ]
  },
  {
   "cell_type": "code",
   "execution_count": 61,
   "metadata": {},
   "outputs": [
    {
     "name": "stdout",
     "output_type": "stream",
     "text": [
      "[2.5 4.  2.5]\n"
     ]
    }
   ],
   "source": [
    "grid = np.array([[1,2,3],\n",
    "                 [4,6,2]])\n",
    "print(np.mean(grid, axis=0))"
   ]
  },
  {
   "cell_type": "code",
   "execution_count": 62,
   "metadata": {},
   "outputs": [
    {
     "name": "stdout",
     "output_type": "stream",
     "text": [
      "[ True  True  True False False]\n",
      "[False False  True  True  True]\n",
      "[False False  True False False]\n",
      "[ True  True False  True  True]\n"
     ]
    }
   ],
   "source": [
    "x = np.array([1,2,3,4,5])\n",
    "print(x<=3)\n",
    "print(x>=3)\n",
    "print(x==3)\n",
    "print(x!=3)"
   ]
  },
  {
   "cell_type": "code",
   "execution_count": 63,
   "metadata": {},
   "outputs": [
    {
     "name": "stdout",
     "output_type": "stream",
     "text": [
      "[[5 0 3 3]\n",
      " [7 9 3 5]\n",
      " [2 4 7 6]]\n",
      "[[ True  True  True  True]\n",
      " [False False  True  True]\n",
      " [ True  True False False]]\n"
     ]
    }
   ],
   "source": [
    "rng = np.random.RandomState(0)\n",
    "x= rng.randint(10,size=(3,4))\n",
    "print(x)\n",
    "print(x<6)"
   ]
  },
  {
   "cell_type": "code",
   "execution_count": 64,
   "metadata": {},
   "outputs": [
    {
     "name": "stdout",
     "output_type": "stream",
     "text": [
      "[[5 0 3 3]\n",
      " [7 9 3 5]\n",
      " [2 4 7 6]]\n",
      "8\n"
     ]
    }
   ],
   "source": [
    "rng = np.random.RandomState(0)\n",
    "x= rng.randint(10,size=(3,4))\n",
    "print(x)\n",
    "print(np.count_nonzero(x<6)) #True의 개수 세기 "
   ]
  },
  {
   "cell_type": "code",
   "execution_count": 65,
   "metadata": {},
   "outputs": [
    {
     "name": "stdout",
     "output_type": "stream",
     "text": [
      "[[5 0 3 3]\n",
      " [7 9 3 5]\n",
      " [2 4 7 6]]\n",
      "8\n"
     ]
    }
   ],
   "source": [
    "rng = np.random.RandomState(0)\n",
    "x= rng.randint(10,size=(3,4))\n",
    "print(x)\n",
    "print(np.sum(x<6)) #True의 합계"
   ]
  },
  {
   "cell_type": "code",
   "execution_count": 68,
   "metadata": {},
   "outputs": [
    {
     "name": "stdout",
     "output_type": "stream",
     "text": [
      "[[5 0 3 3]\n",
      " [7 9 3 5]\n",
      " [2 4 7 6]]\n",
      "[4 2 2]\n"
     ]
    }
   ],
   "source": [
    "rng = np.random.RandomState(0)\n",
    "x= rng.randint(10,size=(3,4))\n",
    "print(x)\n",
    "\n",
    "print(np.sum(x<6, axis=1)) #행별로 개수 세기"
   ]
  },
  {
   "cell_type": "code",
   "execution_count": 69,
   "metadata": {},
   "outputs": [
    {
     "name": "stdout",
     "output_type": "stream",
     "text": [
      "[[5 0 3 3]\n",
      " [7 9 3 5]\n",
      " [2 4 7 6]]\n",
      "True\n"
     ]
    }
   ],
   "source": [
    "rng = np.random.RandomState(0)\n",
    "x= rng.randint(10,size=(3,4))\n",
    "print(x)\n",
    "\n",
    "print(np.any(x>8)) #any 하나라도 참 있나"
   ]
  },
  {
   "cell_type": "code",
   "execution_count": 71,
   "metadata": {},
   "outputs": [
    {
     "name": "stdout",
     "output_type": "stream",
     "text": [
      "[[5 0 3 3]\n",
      " [7 9 3 5]\n",
      " [2 4 7 6]]\n",
      "[ True False False]\n"
     ]
    }
   ],
   "source": [
    "rng = np.random.RandomState(0)\n",
    "x= rng.randint(10,size=(3,4))\n",
    "print(x)\n",
    "\n",
    "print(np.all(x<6,axis=1)) #모두 참인지 -> 를 행별로 "
   ]
  },
  {
   "cell_type": "code",
   "execution_count": 72,
   "metadata": {},
   "outputs": [
    {
     "name": "stdout",
     "output_type": "stream",
     "text": [
      "[[5 0 3 3]\n",
      " [7 9 3 5]\n",
      " [2 4 7 6]]\n",
      "6\n"
     ]
    }
   ],
   "source": [
    "rng = np.random.RandomState(0)\n",
    "x= rng.randint(10,size=(3,4))\n",
    "print(x)\n",
    "print(np.sum((x>=3)&(x<6)))"
   ]
  },
  {
   "cell_type": "code",
   "execution_count": 74,
   "metadata": {},
   "outputs": [
    {
     "name": "stdout",
     "output_type": "stream",
     "text": [
      "[[5 0 3 3]\n",
      " [7 9 3 5]\n",
      " [2 4 7 6]]\n",
      "[0 3 3 3 2 4]\n"
     ]
    }
   ],
   "source": [
    "rng = np.random.RandomState(0)\n",
    "x= rng.randint(10,size=(3,4))\n",
    "print(x)\n",
    "print(x[x<5]) #조건에 맞는 애들만 추출해서 1차원 배열로 출력"
   ]
  },
  {
   "cell_type": "code",
   "execution_count": null,
   "metadata": {},
   "outputs": [],
   "source": []
  }
 ],
 "metadata": {
  "kernelspec": {
   "display_name": "Python 3",
   "language": "python",
   "name": "python3"
  },
  "language_info": {
   "codemirror_mode": {
    "name": "ipython",
    "version": 3
   },
   "file_extension": ".py",
   "mimetype": "text/x-python",
   "name": "python",
   "nbconvert_exporter": "python",
   "pygments_lexer": "ipython3",
   "version": "3.11.6"
  },
  "orig_nbformat": 4
 },
 "nbformat": 4,
 "nbformat_minor": 2
}
