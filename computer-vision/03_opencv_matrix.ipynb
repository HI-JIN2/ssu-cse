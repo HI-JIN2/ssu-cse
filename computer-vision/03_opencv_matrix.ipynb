{
 "cells": [
  {
   "cell_type": "code",
   "execution_count": 1,
   "metadata": {},
   "outputs": [],
   "source": [
    "import cv2 as cv\n",
    "import numpy as np"
   ]
  },
  {
   "cell_type": "code",
   "execution_count": 2,
   "metadata": {},
   "outputs": [],
   "source": [
    "img = cv.imread('preview.jpg')\n",
    "if img is None:\n",
    "    print(\"image load failed\")\n",
    "    exit()\n",
    "\n",
    "cv.imshow('image',img)\n",
    "cv.waitKey()"
   ]
  },
  {
   "cell_type": "code",
   "execution_count": null,
   "metadata": {},
   "outputs": [],
   "source": [
    "def fun1():\n",
    "    img1 = cv.imread('preview.jpg',cv.IMREAD_GRAYSCALE)\n",
    "\n",
    "    if img1 is None:\n",
    "        print('image load faile')\n",
    "        return \n",
    "    print('type(img1)):',type(img1))\n",
    "    print('img1.shape:', img1.shape)\n",
    "    if len(img1.shape) == 2:\n",
    "        print(\"img1 is a grayscale image\")\n",
    "\n",
    "    elif len(img1.shape) == 3:\n",
    "        print('img1 is a truecolor image')\n",
    "\n",
    "    cv.imshow('img1',img1)\n",
    "    cv.waitKey()\n",
    "    cv.destroyAllWindows()\n",
    "fun1()"
   ]
  },
  {
   "cell_type": "code",
   "execution_count": 6,
   "metadata": {},
   "outputs": [
    {
     "name": "stdout",
     "output_type": "stream",
     "text": [
      "[[0. 0. 0.]\n",
      " [0. 0. 0.]\n",
      " [0. 0. 0.]]\n",
      "[[1. 1. 1.]\n",
      " [1. 1. 1.]\n",
      " [1. 1. 1.]]\n",
      "[[1. 0. 0.]\n",
      " [0. 1. 0.]\n",
      " [0. 0. 1.]]\n"
     ]
    }
   ],
   "source": [
    "mat1 = np.array(np.zeros((3,3)))\n",
    "mat2 = np.array(np.ones((3,3)))\n",
    "# mat3 = np.array(np.identity(3))\n",
    "mat3 = np.array(np.eye(3))\n",
    "print(mat1)\n",
    "print(mat2)\n",
    "print(mat3)"
   ]
  },
  {
   "cell_type": "code",
   "execution_count": 10,
   "metadata": {},
   "outputs": [
    {
     "name": "stdout",
     "output_type": "stream",
     "text": [
      "[[ 11 100  13  14]\n",
      " [ 21  22  23  24]\n",
      " [ 31  32  33  34]]\n"
     ]
    }
   ],
   "source": [
    "def fun2():\n",
    "    img1 = np.empty((480, 640), np.uint8)\n",
    "    img2 = np.zeros((480,640,3),np.uint8)\n",
    "    img3 = np.ones((480,640),np.int32)\n",
    "    img4 = np.full((480, 640), 0, np.float32)\n",
    "\n",
    "    mat1 = np.array([[11,12,13,14],\n",
    "                     [21,22,23,24],\n",
    "                     [31,32,33,34]]).astype(np.uint8)\n",
    "    \n",
    "    mat1[0,1] = 100\n",
    "    mat2[2,:] = 200\n",
    "    print(mat1)\n",
    "fun2()"
   ]
  },
  {
   "cell_type": "code",
   "execution_count": 11,
   "metadata": {},
   "outputs": [
    {
     "name": "stdout",
     "output_type": "stream",
     "text": [
      "[4 2 5]\n",
      "[4 2 5]\n",
      "[ 4 10  5]\n",
      "[4 2 5]\n"
     ]
    }
   ],
   "source": [
    "nums = np.array([1,4,2,5,3])\n",
    "\n",
    "ref = nums[1:4] #참조만\n",
    "cpy = nums[1:4].copy() #진짜 복사 -> 별도로 메모리를 할당하여 사용하려면!\n",
    "\n",
    "print(ref)\n",
    "print(cpy)\n",
    "\n",
    "nums[2]=10 #본체를 바꿈\n",
    "\n",
    "print(ref) #본체를 참조했기 때문에 변동 0\n",
    "print(cpy) #복사!를 해서 가져왔기때문에 여향 x\n",
    "\n"
   ]
  },
  {
   "cell_type": "code",
   "execution_count": 12,
   "metadata": {},
   "outputs": [],
   "source": [
    "def fun3():\n",
    "    img1 = cv.imread('preview.jpg')\n",
    "\n",
    "    img2 = img1\n",
    "    img3 = img1.copy() #copy \n",
    "\n",
    "    img1[:,:] = (0,255,255)\n",
    "\n",
    "    cv.imshow('img1',img1)\n",
    "    cv.imshow('img2',img2)\n",
    "    cv.imshow('img3',img3)\n",
    "\n",
    "    cv.waitKey()\n",
    "    cv.destroyAllWindows()\n",
    "fun3()"
   ]
  },
  {
   "cell_type": "code",
   "execution_count": null,
   "metadata": {},
   "outputs": [],
   "source": []
  }
 ],
 "metadata": {
  "kernelspec": {
   "display_name": "Python 3",
   "language": "python",
   "name": "python3"
  },
  "language_info": {
   "codemirror_mode": {
    "name": "ipython",
    "version": 3
   },
   "file_extension": ".py",
   "mimetype": "text/x-python",
   "name": "python",
   "nbconvert_exporter": "python",
   "pygments_lexer": "ipython3",
   "version": "3.11.6"
  },
  "orig_nbformat": 4
 },
 "nbformat": 4,
 "nbformat_minor": 2
}
