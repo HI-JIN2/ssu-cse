{
 "cells": [
  {
   "cell_type": "code",
   "execution_count": 3,
   "metadata": {},
   "outputs": [],
   "source": [
    "import cv2\n",
    "import numpy as np\n"
   ]
  },
  {
   "cell_type": "markdown",
   "metadata": {},
   "source": [
    "# 1. 영상의 필터링"
   ]
  },
  {
   "cell_type": "markdown",
   "metadata": {},
   "source": [
    "## 엠보싱 필터링"
   ]
  },
  {
   "cell_type": "code",
   "execution_count": 7,
   "metadata": {},
   "outputs": [],
   "source": [
    "src= cv2.imread(\"preview.jpg\", cv2.IMREAD_GRAYSCALE)\n",
    "\n",
    "if src is None:\n",
    "    print(\"failed\")\n",
    "    exit()\n",
    "\n",
    "emboss = np.array([[-1,-1,0],\n",
    "                    [-1,0,1],\n",
    "                    [0,1,1]], np.float32)\n",
    "dst = cv2.filter2D(src, -1, emboss, delta=128)\n",
    "\n",
    "cv2.imshow('src',src)\n",
    "cv2.imshow('dst',dst)\n",
    "\n",
    "cv2.waitKey()\n",
    "cv2.destroyAllWindows()"
   ]
  },
  {
   "cell_type": "markdown",
   "metadata": {},
   "source": [
    "## 2. 블러링 : 영상부드럽게 하기\n",
    "\n",
    "\n",
    "- blurring_mean() 함수는 3×3, 5×5, 7×7 크기의 평균값 필 터를 이용하여 rose.bmp 장미 영상을 부드럽게 변환하고 그 결과를 화면에 출력\n",
    "- 평균값필터의크기가커질수록결과영상이더욱부드럽 게 변경되는 것을 확인할 수 있음"
   ]
  },
  {
   "cell_type": "code",
   "execution_count": 10,
   "metadata": {},
   "outputs": [],
   "source": [
    "def blurring_mean():\n",
    "    src = cv2.imread(\"preview.jpg\",cv2.IMREAD_GRAYSCALE)\n",
    "\n",
    "    if src is None:\n",
    "        print(\"failed\")\n",
    "        exit()\n",
    "\n",
    "    cv2.imshow(\"src\",src)\n",
    "\n",
    "    for ksize in range(3,9,2):\n",
    "        dst = cv2.blur(src, (ksize, ksize))\n",
    "\n",
    "        desc = \"Mean: %d %d\" %(ksize, ksize)\n",
    "        cv2.putText(dst, desc, (10,30), cv2.FONT_HERSHEY_SCRIPT_SIMPLEX,\n",
    "                    1.0, 255, 1, cv2.LINE_AA)\n",
    "        \n",
    "        cv2.imshow('dst',dst)\n",
    "        cv2.waitKey()\n",
    "\n",
    "    cv2.destroyAllWindows()\n",
    "\n",
    "blurring_mean()"
   ]
  },
  {
   "cell_type": "markdown",
   "metadata": {},
   "source": [
    "## 가우시안 필터\n",
    "- blurring_gaussian() 함수는 가우시안 표준 편차를 1부터 5 까지 정수 단위로 증가시키면서 rose.bmp 장미 영상에 대 해 가우시안 필터링을 수행\n",
    "- src는입력영상인rose.bmp파일이고,dst는 GaussianBlur() 함수에 의해 생성된 블러링 결과 영상\n",
    "- 표준편차값이커질수록결과영상이더욱부드럽게변경 되는 것을 확인"
   ]
  },
  {
   "cell_type": "code",
   "execution_count": 12,
   "metadata": {},
   "outputs": [],
   "source": [
    "def blurring_gaussian():\n",
    "    src = cv2.imread(\"preview.jpg\", cv2.IMREAD_GRAYSCALE)\n",
    "    if src is None:\n",
    "        print(\"failed\")\n",
    "        return\n",
    "\n",
    "    cv2.imshow(\"src\",src)\n",
    "\n",
    "    for sigma in range(1,6):\n",
    "        dst = cv2.GaussianBlur(src,(0,0),sigma)\n",
    "        desc = \"Gaussian: sigma= %d\" %(sigma)\n",
    "        cv2.putText(dst, desc, (10,30), cv2.FONT_HERSHEY_SIMPLEX,\n",
    "                    1.0, 255, 1, cv2.LINE_AA)\n",
    "        cv2.imshow(\"dst\",dst)\n",
    "        cv2.waitKey()\n",
    "    cv2.destroyAllWindows()\n",
    "\n",
    "blurring_gaussian()\n",
    "    "
   ]
  },
  {
   "cell_type": "markdown",
   "metadata": {},
   "source": [
    "# 3. 샤프닝 \n",
    "## 언샤프 마스크 필터\n",
    "\n",
    "- 코드는 rose.bmp 장미 영상을 다양한 표준 편차 값으로 가 우시안 필터를 적용하고, 블러링된 영상을 이용하여 샤프닝 결과 영상을 생성\n",
    "- src창에나타난장미영상은입력영상이고,dst창에나타 난 영상은 다양한 sigma 값에 의해 생성된 언샤프 마스크 필터링 결과\n",
    "- dst영상이장미꽃경계부분이좀더뚜렷하게구분이되는 것을 확인할 수 있음\n",
    "- 다만sigma값이커짐에따라다소과장된느낌의샤프닝 결과 영상이 만들어질 수도 있으니 주의"
   ]
  },
  {
   "cell_type": "markdown",
   "metadata": {},
   "source": [
    "# 4. 잡음\n",
    "## 가우시안 잡음 모델\n",
    "- noise_gaussian() 함수는 레나 영상에 평균이 0이고 표준 편차가 각각 10, 20, 30인 가우시안 잡음을 추가하여 화면 에 나타냄\n",
    "- 원본영상src에비해가우시안잡음이추가된결과영상 dst가 거칠고 지저분해 보이는 것을 확인할 수 있음\n",
    "- 특히 표준 편차 stddev 값이 증가함에 따라 잡음의 영향이 커지므로 결과 영상이 더욱 지저분해 지는 것을 볼 수 있음"
   ]
  },
  {
   "cell_type": "code",
   "execution_count": 16,
   "metadata": {},
   "outputs": [],
   "source": [
    "def noise_gaussian():\n",
    "    src = cv2.imread(\"preview.jpg\", cv2.IMREAD_GRAYSCALE)\n",
    "    \n",
    "    if src is None:\n",
    "        print(\"failed\")\n",
    "        return\n",
    "    \n",
    "    cv2.imshow('src',src)\n",
    "\n",
    "    for stddev in [10,20,30]:\n",
    "        noise = np.zeros(src.shape, np.int32)\n",
    "        cv2.randn(noise, 0, stddev)\n",
    "\n",
    "        dst = cv2.add(src, noise, dtype=cv2.CV_8UC1)\n",
    "\n",
    "        desc = \"stddev = %d\" %stddev\n",
    "\n",
    "        cv2.putText(dst, desc, (10,30), cv2.FONT_HERSHEY_SIMPLEX,\n",
    "                    1.0, 225, 1, cv2.LINE_AA)\n",
    "        cv2.imshow('dst',dst)\n",
    "\n",
    "        cv2.waitKey()\n",
    "    cv2.destroyAllWindows()\n",
    "\n",
    "noise_gaussian()"
   ]
  },
  {
   "cell_type": "markdown",
   "metadata": {},
   "source": [
    "## 양방향 필터\n",
    "\n",
    "\n",
    "- src 창의 영상은 lenna.bmp 영상에 평균이 0이고 표준 편차\n",
    "가 5인 가우시안 잡음이 추가된 영상\n",
    "-  이영상에대해표준편차가5인가우시안필터링을수행한\n",
    "결과가 dst1 영상\n",
    "- 입력영상src에비해지글거리는잡음의영향은크게줄었 지만, 머리카락, 모자, 배경 사물의 경계 부분이 함께 블러 링되어 흐릿하게 변경됨\n",
    "- 반면에 양방향 필터가 적용된 src2 영상은 머리카락, 모자, 배경 사물의 경계는 그대로 유지됨\n",
    "\n",
    "cv2.GaussianBlur(src, ksize, sigmaX)\n",
    "\n",
    "- src: 입력 이미지.\n",
    "- ksize: 커널의 크기를 나타내는 튜플. (0, 0)이면 자동으로 커널 크기가 계산됩니다. 커널 크기가 커질수록 블러링 효과가 더 강화됩니다.\n",
    "- sigmaX: X 방향으로의 가우시안 커널 표준 편차. 이 값이 커질수록 블러링이 강화됩니다.\n",
    "\n",
    "\n",
    "cv2.bilateralFilter(src, d, sigmaColor, sigmaSpace)\n",
    "\n",
    "- src: 입력 이미지.\n",
    "- d: 필터링에 사용되는 지름(diameter)입니다. 이 지름 내에서 픽셀 값만 사용됩니다.\n",
    "- sigmaColor: 색상 공간에서의 필터링 시 가우시안 함수의 표준 편차입니다. 이 값이 크면 더 넓은 범위의 색상 값이 포함됩니다.\n",
    "- sigmaSpace: 공간 공간에서의 필터링 시 가우시안 함수의 표준 편차입니다. 이 값이 크면 더 넓은 공간적 범위가 포함됩니다.\n",
    "\n",
    "cv2.GaussianBlur 함수는 이미지를 블러링(흐리게) 처리하는 데 사용되며, sigmaX를 조절하여 블러링 정도를 조절할 수 있습니다.  \n",
    "\n",
    "cv2.bilateralFilter 함수는 이미지의 선명도를 유지하면서 노이즈를 감소시키는데 사용됩니다. d, sigmaColor, 및 sigmaSpace 파라미터를 조절하여 필터링의 효과를 조절할 수 있습니다."
   ]
  },
  {
   "cell_type": "code",
   "execution_count": 17,
   "metadata": {},
   "outputs": [],
   "source": [
    "def filter_bilateral():\n",
    "    src = cv2.imread('preview.jpg', cv2.IMREAD_GRAYSCALE)\n",
    "\n",
    "    if src is None:\n",
    "        print(\"failed\")\n",
    "        return \n",
    "    \n",
    "    noise = np.zeros(src.shape, np.int32)\n",
    "    cv2.randn(noise, 0 ,5)\n",
    "    cv2.add(src, noise, src, dtype=cv2.CV_8UC1)\n",
    "\n",
    "    dst1 = cv2.GaussianBlur(src, (0,0),5)\n",
    "    dst2 = cv2.bilateralFilter(src, -1, 10,5)\n",
    "    \n",
    "    cv2.imshow(\"src\", src)\n",
    "    cv2.imshow(\"dst1\",dst1)\n",
    "    cv2.imshow(\"dst2\",dst2)\n",
    "    cv2.waitKey()\n",
    "    cv2.destroyAllWindows()\n",
    "\n",
    "filter_bilateral()\n"
   ]
  },
  {
   "cell_type": "markdown",
   "metadata": {},
   "source": [
    "## 미디언 필터\n",
    "\n",
    "\n",
    "- filter_median() 함수는 입력 영상 전체 크기의 10%에 해당 하는 픽셀에 소금&후추 잡음을 추가\n",
    "- 가우시안 필터와 미디언 필터를 수행한 결과 영상을 화면에 출력\n",
    "- 소금&후추 잡음에 대해서는 가우시안 블러링을 적용하여 도 여전히 영상이 지저분하게 보이는 것을 확인할 수 있음\n",
    "- 반면에 미디언 필터를 적용한 dst2 영상에서는 잡음에 의해 추가된 흰색 또는 검은색 픽셀이 효과적으로 제거된 것을 확인할 수 있음"
   ]
  },
  {
   "cell_type": "code",
   "execution_count": 23,
   "metadata": {},
   "outputs": [],
   "source": [
    "import random\n",
    "\n",
    "def filter_median():\n",
    "    src = cv2.imread(\"preview.jpg\",cv2.IMREAD_GRAYSCALE)\n",
    "\n",
    "    if src is None:\n",
    "        print(\"failed\")\n",
    "        return\n",
    "    \n",
    "    for i in range(0, int(src.size / 10)):\n",
    "        x = random.randint(0, src.shape[1]-1)\n",
    "        y = random.randint(0, src.shape[0]-1)\n",
    "           # 무작위로 선택한 좌표가 이미지 범위를 벗어나는 경우 다시 선택\n",
    "        # while x >= src.shape[1] or y >= src.shape[0]:\n",
    "        #     x = random.randint(0, src.shape[1] - 1)\n",
    "        #     y = random.randint(0, src.shape[0] - 1)\n",
    "        src[y,x] = (i % 2) * 255\n",
    "\n",
    "\n",
    "    dst1 = cv2.GaussianBlur(src, (0,0), 1)\n",
    "    dst2 = cv2.medianBlur(src, 3)\n",
    "\n",
    "    cv2.imshow(\"src\", src)\n",
    "    cv2.imshow(\"dst1\", dst1)\n",
    "    cv2.imshow(\"dst2\", dst2)\n",
    "    cv2.waitKey()\n",
    "    cv2.destroyAllWindows()\n",
    "\n",
    "filter_median()"
   ]
  }
 ],
 "metadata": {
  "kernelspec": {
   "display_name": "Python 3",
   "language": "python",
   "name": "python3"
  },
  "language_info": {
   "codemirror_mode": {
    "name": "ipython",
    "version": 3
   },
   "file_extension": ".py",
   "mimetype": "text/x-python",
   "name": "python",
   "nbconvert_exporter": "python",
   "pygments_lexer": "ipython3",
   "version": "3.11.6"
  },
  "orig_nbformat": 4
 },
 "nbformat": 4,
 "nbformat_minor": 2
}
