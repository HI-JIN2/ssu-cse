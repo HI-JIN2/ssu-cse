{
 "cells": [
  {
   "cell_type": "code",
   "execution_count": 2,
   "metadata": {},
   "outputs": [],
   "source": [
    "import cv2\n",
    "import numpy as np"
   ]
  },
  {
   "cell_type": "markdown",
   "metadata": {},
   "source": [
    "# 08. 영상의 기하학적 변환\n",
    "## 1. 어파인 변환\n",
    "\n",
    "- affine_transform() 함수는 tekapo.bmp 호수 영상을 평행사변형 형태로 변환\n",
    "- 입력 영상에서 세 점은 좌측 상단, 우측상단, 우측하단의 모서리 점을 선택하였고, 이 점들이 이동할 결과 영상에서의 위치는 임의로 지정함\n",
    "\n",
    "\n",
    "- src는 tekapo.bm 입력 영상이고, dst는 어파인 변환에 의해\n",
    "생성된 결과 영상\n",
    "- 입력 영상에서 세 모서리 점이 지정한 위치로 적절하게 이동하였고, 어파인 변환된 결과 영상이 평행사변형 형태로 나타난 것을 확인할 수 있음"
   ]
  },
  {
   "cell_type": "code",
   "execution_count": 6,
   "metadata": {},
   "outputs": [],
   "source": [
    "def affine_transform():\n",
    "    src = cv2.imread(\"preview.jpg\")\n",
    "\n",
    "    if src is None:\n",
    "        print(\"failed\")\n",
    "        return\n",
    "    \n",
    "    rows = src.shape[0]\n",
    "    cols = src.shape[1]\n",
    "\n",
    "    src_pts = np.array([[0,0],\n",
    "                        [cols-1, 0],\n",
    "                        [cols-1, rows-1]]).astype(np.float32)\n",
    "    \n",
    "    dst_pts = np.array([[50,50],\n",
    "                        [cols-100, 100],\n",
    "                        [cols-50, rows-50]]).astype(np.float32)\n",
    "    \n",
    "    affine_mat = cv2.getAffineTransform(src_pts, dst_pts)\n",
    "  \n",
    "    dst = cv2.warpAffine(src, affine_mat, (0,0))\n",
    "\n",
    "    cv2.imshow(\"src\",src)\n",
    "    cv2.imshow(\"dst\",dst)\n",
    "    cv2.waitKey()\n",
    "    cv2.destroyAllWindows()\n",
    "\n",
    "affine_transform()"
   ]
  },
  {
   "cell_type": "markdown",
   "metadata": {},
   "source": [
    "## 2. 이동변환\n",
    "= 시프트 연산\n",
    "\n",
    "- 결과 영상에서 호수 영상이 (150, 100) 좌표부터 나타나는 것을 확인할 수 있고, 입력 영상의 픽셀 값이 복사되지 않은 영역은 검은색으로 채워진 것을 확인할 수 있음"
   ]
  },
  {
   "cell_type": "code",
   "execution_count": 7,
   "metadata": {},
   "outputs": [],
   "source": [
    "def affine_translation():\n",
    "    src = cv2.imread(\"preview.jpg\")\n",
    "\n",
    "    if src is None:\n",
    "        print(\"failed\")\n",
    "        return \n",
    "    \n",
    "    affine_mat = np.array([[1,0,150],\n",
    "                           [0,1,100]]).astype(np.float32)\n",
    "    \n",
    "    dst = cv2.warpAffine(src, affine_mat, (0,0))\n",
    "\n",
    "    cv2.imshow(\"src\",src)\n",
    "    cv2.imshow(\"dst\", dst)\n",
    "    cv2.waitKey()\n",
    "    cv2.destroyAllWindows()\n",
    "\n",
    "affine_translation()"
   ]
  },
  {
   "cell_type": "markdown",
   "metadata": {},
   "source": [
    "## 3. 전단 변환\n",
    "= 층 밀림 변환\n",
    "직사각형 -> 평행사변형\n",
    "\n",
    "- affine_shear() 함수는 tekapo.bmp 호수 영상에 대해 y 좌표가 증가함에 따라 0.3 y에 해당하는 x 좌표에서 원본 영상 픽셀이 나타나기 시작하는 전단 변환을 수행\n",
    "\n",
    "- 입력 영상 일부가 잘리지 않도록 결과 영상 크기를 적절하게 확대함\n",
    "- 가로 방향으로 층밀림을 수행하였으므로 src 영상과 dst 영상의 세로 크기는 동일하고, dst 영상의 가로 크기는 src.cols + src.rows * mx로 설정함"
   ]
  },
  {
   "cell_type": "code",
   "execution_count": 9,
   "metadata": {},
   "outputs": [],
   "source": [
    "def affine_shear():\n",
    "    src = cv2.imread(\"preview.jpg\")\n",
    "\n",
    "    if src is None:\n",
    "        print(\"failed\")\n",
    "        return\n",
    "    rows = src.shape[0]\n",
    "    cols = src.shape[1]\n",
    "\n",
    "    mx = 0.3\n",
    "\n",
    "    affine_mat = np.array([[1,mx,0],\n",
    "                           [0,1,0]]).astype(np.float32)\n",
    "    \n",
    "    dst = cv2.warpAffine(src, affine_mat, (int(cols+rows*mx),rows))\n",
    "\n",
    "    cv2.imshow(\"src\",src)\n",
    "    cv2.imshow(\"dst\",dst)\n",
    "    cv2.waitKey()\n",
    "    cv2.destroyAllWindows()\n",
    "\n",
    "affine_shear()"
   ]
  },
  {
   "cell_type": "markdown",
   "metadata": {},
   "source": [
    "## 4. 크기 변환\n"
   ]
  },
  {
   "cell_type": "code",
   "execution_count": 12,
   "metadata": {},
   "outputs": [],
   "source": [
    "def affine_scale():\n",
    "    src = cv2.imread(\"preview.jpg\")\n",
    "\n",
    "    if src is None:\n",
    "        print(\"failed\")\n",
    "        return\n",
    "    \n",
    "    dst1 = cv2.resize(src, (0,0), fx=4, fy=4, interpolation=cv2.INTER_NEAREST)\n",
    "    dst2 = cv2.resize(src, (1920,1080))\n",
    "    dst3 = cv2.resize(src, (1920,1080), interpolation=cv2.INTER_CUBIC)\n",
    "    dst4 = cv2.resize(src, (1920,1080), interpolation=cv2.INTER_LANCZOS4)\n",
    "\n",
    "    cv2.imshow(\"src\",src)\n",
    "    cv2.imshow(\"dst1\",dst1[400:800, 500:900])\n",
    "    cv2.imshow(\"dst2\",dst2[400:800, 500:900])    \n",
    "    cv2.imshow(\"dst3\",dst3[400:800, 500:900])\n",
    "    cv2.imshow(\"dst4\",dst4[400:800, 500:900])\n",
    "    cv2.waitKey()\n",
    "    cv2.destroyAllWindows()\n",
    "\n",
    "affine_scale()"
   ]
  },
  {
   "cell_type": "markdown",
   "metadata": {},
   "source": [
    "## 5. 회전 변환\n",
    "- tekapo.bmp 호수 영상을 영상 중심을 기준으로 반시계 방 향으로 20°만큼 회전시키고 그 결과를 화면에 출력\n",
    "\n",
    "- 입력 영상의 일부가 잘리지 않게 영상을 회전하려면 결과 영상의 크기를 더 크게 설정하고 회전과 이동 변환을 함께 고려해야 함"
   ]
  },
  {
   "cell_type": "code",
   "execution_count": 14,
   "metadata": {},
   "outputs": [],
   "source": [
    "def affine_rotation():\n",
    "    src = cv2.imread(\"preview.jpg\")\n",
    "    if src is None:\n",
    "        print(\"failed\")\n",
    "        return\n",
    "    cp = (src.shape[1]/2, src.shape[0]/2)\n",
    "    affine_mat = cv2.getRotationMatrix2D(cp,20,1)\n",
    "    dst = cv2.warpAffine(src, affine_mat, (0,0))\n",
    "\n",
    "    cv2.imshow(\"src\",src)\n",
    "    cv2.imshow(\"dst\",dst)\n",
    "    cv2.waitKey()\n",
    "    cv2.destroyAllWindows()\n",
    "\n",
    "affine_rotation()"
   ]
  },
  {
   "cell_type": "markdown",
   "metadata": {},
   "source": [
    "## 6. 대칭 변환\n",
    "- affine_flip() 함수는 영상을 좌우 대칭, 상하 대칭, 상하 및 좌우 대칭을 수행한 결과를 화면에 출력"
   ]
  },
  {
   "cell_type": "code",
   "execution_count": 15,
   "metadata": {},
   "outputs": [],
   "source": [
    "def affine_flip():\n",
    "    src = cv2.imread(\"preview.jpg\")\n",
    "    if src is None:\n",
    "        print(\"failed\")\n",
    "        return\n",
    "    cv2.imshow(\"src\",src)\n",
    "\n",
    "    for flip_code in [1,0,-1]:\n",
    "        dst = cv2.flip(src, flip_code)\n",
    "        desc = \"flip code: %d\" %flip_code\n",
    "\n",
    "        cv2.putText(dst, desc, (10,10),cv2.FONT_HERSHEY_SIMPLEX,\n",
    "                    1.0, (255,0,0), 1, cv2.LINE_AA)\n",
    "        cv2.imshow(\"dst\",dst)\n",
    "        cv2.waitKey()\n",
    "\n",
    "    cv2.destroyAllWindows()\n",
    "affine_flip()\n"
   ]
  },
  {
   "cell_type": "markdown",
   "metadata": {},
   "source": [
    "## 7. 투시변환\n",
    "\n",
    "- 다음의 예제는 card.bmp라는 트럼프 카드 영상에서 사용자 가 마우스로 카드 모서리 좌표를 선택하면 해당 카드를 반 듯한 직사각형 형태로 투시 변환하여 화면에 출력\n",
    "\n",
    "- perspective 프로그램이 처음 실행되면 일단 src 창만 화면\n",
    "에 나타남\n",
    "- 이때 마우스를 이용한 좌표 선택은 카드의 좌측상단 조서 리 점부터 시작하여 시계 방향 순서로 선택해야 함\n",
    "-  마우스로 클릭한 위치는 빨간색 원을 그려서 표시함\n",
    "- 일반적인 카드의 가로 대세로 크기 비율이 2:3이기 때문에\n",
    "dst 창에 나타날 영상의 크기를 200×300으로 설정함\n",
    "-  그결과dst창에다이아K카드가200×300크기로반듯하 게 투시 변환되어 나타나는 것을 확인할 수 있음"
   ]
  },
  {
   "cell_type": "code",
   "execution_count": 18,
   "metadata": {},
   "outputs": [],
   "source": [
    "def on_mouse(event, x, y, flags, param):\n",
    "    global cnt, src_pts\n",
    "    if event == cv2.EVENT_LBUTTONDOWN:\n",
    "        if cnt<4:\n",
    "            src_pts[cnt,:] = np.array([x,y]).astype(np.float32)\n",
    "            cnt +=1\n",
    "            cv2.circle(src, (x,y), 5, (0,0,255), -1)\n",
    "            cv2.imshow(\"src\",src)\n",
    "\n",
    "        if cnt ==4:\n",
    "            w= 200\n",
    "            h=300\n",
    "            dst_pts = np.array([[0,0],\n",
    "                               [w-1, 0],\n",
    "                               [w-1,h-1],\n",
    "                               [0,h-1]]).astype(np.float32)\n",
    "            \n",
    "            pers_mat = cv2.getPerspectiveTransform(src_pts, dst_pts)\n",
    "\n",
    "            dst = cv2.warpPerspective(src, pers_mat, (w,h))\n",
    "\n",
    "            cv2.imshow(\"dst\",dst)\n",
    "\n",
    "cnt=0\n",
    "src_pts=np.zeros([4,2],dtype=np.float32)\n",
    "\n",
    "src = cv2.imread(\"preview.jpg\")\n",
    "\n",
    "if src is None:\n",
    "    print(\"failed\")\n",
    "    exit()\n",
    "\n",
    "cv2.namedWindow(\"src\")\n",
    "cv2.setMouseCallback(\"src\",on_mouse)\n",
    "\n",
    "cv2.imshow(\"src\",src)\n",
    "cv2.waitKey(0)\n",
    "cv2.destroyAllWindows()\n"
   ]
  },
  {
   "cell_type": "code",
   "execution_count": 23,
   "metadata": {},
   "outputs": [],
   "source": [
    "import cv2 as cv\n",
    "import numpy as np\n",
    "src = cv2.imread(\"preview.jpg\")\n",
    "a = src.shape[0]\n",
    "b = src.shape[1]\n",
    "\n",
    "# arr = [[1, 0, 150], [0, 1, 100]] \n",
    "# arr = [[1, 0.3, 0], [0, 1, 0]] \n",
    "# arr = [[-1, 0, b], [0, 1, 0]] \n",
    "arr = [[2, 0, 0], [0, 2, -a]]\n",
    "\n",
    "mat = np.array(arr).astype(np.float32)\n",
    "dst = cv2.warpAffine(src, mat, (0, 0))\n",
    "cv2.imshow('dst', dst)\n",
    "cv2.waitKey()"
   ]
  }
 ],
 "metadata": {
  "kernelspec": {
   "display_name": "Python 3",
   "language": "python",
   "name": "python3"
  },
  "language_info": {
   "codemirror_mode": {
    "name": "ipython",
    "version": 3
   },
   "file_extension": ".py",
   "mimetype": "text/x-python",
   "name": "python",
   "nbconvert_exporter": "python",
   "pygments_lexer": "ipython3",
   "version": "3.11.6"
  },
  "orig_nbformat": 4
 },
 "nbformat": 4,
 "nbformat_minor": 2
}
