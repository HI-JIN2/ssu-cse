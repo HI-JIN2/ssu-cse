{
 "cells": [
  {
   "cell_type": "markdown",
   "id": "1e2cb334",
   "metadata": {},
   "source": [
    "# 규칙 기반 학습을 이용한 Tic-Tac-Toe 인공지능\n",
    "---\n",
    "\n",
    "## Remind : 규칙 기반 학습 이란?\n",
    "---\n",
    "- 주어진 입력에 대해서 결과값을 도출하는 방법으로 if-then 방식이라고도 합니다.\n",
    "- 확고한 규칙에 따라 학습 및 예측하는 방법입니다.\n",
    "\n",
    "## Tic-Tac-Toe 게임이란?\n",
    "---\n",
    "1. 3x3 보드가 존재합니다.\n",
    "2. 'O'와'X' 두개의 말이 있습니다.\n",
    "3. 두 명의 사용자는 번갈아 가면서 말을 둡니다.\n",
    "4. 한 명의 사용자가 가로, 세로, 대각선에 일렬로 두게 되면 승리합니다.\n",
    "5. 무승부가 가능합니다."
   ]
  },
  {
   "cell_type": "markdown",
   "id": "b05ffd58",
   "metadata": {},
   "source": [
    "## Tic-Tac-Toe 게임 만들기\n",
    "---\n",
    "\n",
    "우리는 Tic Tac Toe 게임을 직접 만들어 보겠습니다.\n",
    "\n",
    "만들면서 지난 파이썬 응용 강의를 기억하도록 하겠습니다.\n",
    "\n",
    "Tic Tac Toe 게임 보드는 하나의 클래스로서 작동하게됩니다."
   ]
  },
  {
   "cell_type": "code",
   "execution_count": 1,
   "id": "81e96f1f",
   "metadata": {},
   "outputs": [],
   "source": [
    "import os\n",
    "import numpy as np\n",
    "from sys import platform\n",
    "from IPython.display import clear_output"
   ]
  },
  {
   "cell_type": "code",
   "execution_count": 2,
   "id": "a8033d9c",
   "metadata": {},
   "outputs": [],
   "source": [
    "class GameBoard(object):\n",
    "    def __init__(self):\n",
    "        self.board_state = np.array([[0, 0, 0], [0, 0, 0], [0, 0, 0]])\n",
    "        self.board_size  = len(self.board_state)*len(self.board_state[0])\n",
    "        self.board_rows  = len(self.board_state)\n",
    "        self.board_cols  = len(self.board_state[0])\n",
    "        self.marker      = 1\n",
    "        self.result      = 0\n",
    "        \n",
    "    def print_board(self):\n",
    "        for i, row in enumerate(self.board_state):\n",
    "            for idx, col in enumerate(row):\n",
    "                print(f\" {self.draw_mark(col)} \", end=\"\")\n",
    "                if not (idx == (len(row)-1)):\n",
    "                    print(\"|\", end=\"\")\n",
    "                else:\n",
    "                    print()\n",
    "            if not (i == (len(self.board_state)-1)):\n",
    "                print(\"---|---|---\")\n",
    "                \n",
    "    def play_mark(self, inputs):\n",
    "\n",
    "        if not inputs in list(range(self.board_size)):\n",
    "            return f\"Please play right places!\"\n",
    "        else:\n",
    "            r, c = divmod(inputs, self.board_rows)\n",
    "            if self.board_state[r][c] != 0:\n",
    "                return f\"Can not play that place!\"\n",
    "            else:\n",
    "                self.board_state[r][c] = self.marker\n",
    "        self.marker *= -1\n",
    "        return 0\n",
    "                \n",
    "    def draw_mark(self, state):\n",
    "        if state == -1:\n",
    "            return 'X'\n",
    "        elif state == 1:\n",
    "            return 'O'\n",
    "        else:\n",
    "            return ' '\n",
    "    def make_log(self, state=0):\n",
    "        r\"\"\"\n",
    "        State 0 : Draw\n",
    "        State 1 : X player win\n",
    "        State 2 : O player win\n",
    "        \"\"\"\n",
    "        if state == 1:\n",
    "            return \"Player O win...\"\n",
    "        elif state == 2:\n",
    "            return \"Player X win...\"\n",
    "        else:\n",
    "            return \"Draw!\"\n",
    "        \n",
    "    def check_vic(self):\n",
    "        # Check Draw\n",
    "        if not 0 in self.board_state:\n",
    "            return self.make_log()\n",
    "        # Check Rows\n",
    "        for row in self.board_state:\n",
    "            if sum(row) == 3:\n",
    "                return self.make_log(1)\n",
    "            elif sum(row) == -3:\n",
    "                return self.make_log(2)\n",
    "            \n",
    "        # Check Columns\n",
    "        for col in self.board_state.T:\n",
    "            if sum(col) == 3:\n",
    "                return self.make_log(1)\n",
    "            elif sum(col) == -3:\n",
    "                return self.make_log(2)\n",
    "            \n",
    "        # Check diagonal\n",
    "        di1 = np.trace(self.board_state)\n",
    "        di2 = np.trace(self.board_state[..., ::-1])\n",
    "        \n",
    "        if di1 == 3 or di2 == 3:\n",
    "            return self.make_log(1)\n",
    "        elif di1 == -3 or di2 == -3:\n",
    "            return self.make_log(2)\n",
    "        \n",
    "        return 0\n",
    "            \n",
    "        \n",
    "        \n",
    "    def clear_output(self):\n",
    "#         Windows\n",
    "#         os.system( \"cls\")\n",
    "#         Linux\n",
    "#         os.system(\"clear\")\n",
    "#         Notebook\n",
    "        clear_output()\n",
    "    \n",
    "    def play(self):\n",
    "        while True:\n",
    "            self.clear_output()\n",
    "            self.print_board()\n",
    "            \n",
    "            # Print Problem or Information    \n",
    "            if self.result:\n",
    "                print(self.result)\n",
    "                \n",
    "            # Check Who win the game\n",
    "            self.result = self.check_vic()\n",
    "            if self.result:\n",
    "                print(self.result)\n",
    "                break            \n",
    "            \n",
    "            # Input user's play\n",
    "            inputs = int(input(f\"Player {self.draw_mark(self.marker)} : \"))\n",
    "            \n",
    "            # Check it can be played?\n",
    "            self.result = self.play_mark(inputs)\n",
    "            if self.result:\n",
    "                continue\n",
    "            \n",
    "            \n",
    "            "
   ]
  },
  {
   "cell_type": "markdown",
   "id": "6bef5a52",
   "metadata": {},
   "source": [
    "## Play 해보기\n",
    "---\n",
    "\n",
    "직접 플레이를 해보겠습니다."
   ]
  },
  {
   "cell_type": "code",
   "execution_count": 3,
   "id": "6b0e3cc2",
   "metadata": {
    "scrolled": true
   },
   "outputs": [
    {
     "name": "stdout",
     "output_type": "stream",
     "text": [
      " O | X | O \n",
      "---|---|---\n",
      " X | O | X \n",
      "---|---|---\n",
      " O |   |   \n",
      "Player O win...\n"
     ]
    }
   ],
   "source": [
    "game = GameBoard()\n",
    "game.play()"
   ]
  },
  {
   "cell_type": "markdown",
   "id": "c76c9387",
   "metadata": {},
   "source": [
    "## 규칙 기반 AI 만들기\n",
    "---\n",
    "\n",
    "우리는 우리가 만든 Tic-Tac-Toe 게임을 자동으로 플레이 하는 프로그램을 만들 수 있습니다.\n",
    "\n",
    "우리가 만들어볼 방식은 규칙 기반으로 동작하는 상대입니다.\n",
    "\n",
    "우리는 기존의 다른 코딩 방식처럼 동작을 완벽하게 이해한 후 정해진 절차에 따라 자동으로 말을 놓는 상대방을 제작할 수 있을 것입니다.\n",
    "\n",
    "이런 방식을 규칙 기반 방식이라고 부릅니다.\n",
    "\n",
    "이를 위해선 우리는 Tic-Tac-Toe 게임을 명확하게 이해할 필요가 있습니다.\n",
    "\n",
    "이 게임을 이기기 위해서 어디에 두는 것이 가장 좋을까요?\n",
    "\n",
    "확률에 기반하여 이길 수 있는 확률이 높은 곳을 기준으로 말을 둔다면 좋을 것이라는 가정하에 규칙을 제작하겠습니다.\n",
    "\n",
    "\n",
    "===============  __Tic__ __Tac__ __Toe__ AI 게임 규칙===============\n",
    "\n",
    "1. 이길 수 있는 곳이 있으면, 이길 수 있는 곳에 둔다.\n",
    "2. 상대방이 이길 수 있는 곳이 있으면, 상대방이 이길 수 있는 곳에 둔다.\n",
    "3. 가운데가 비어 있으면, 가운데에 둔다.\n",
    "4. 모서리가 비어있다면, 모서리에 둔다.\n",
    "5. 각 변 중 한곳이 비어있으면 둔다.\n",
    "\n",
    "====================================================\n",
    "\n",
    "이런 규칙들의 모음을 규칙 집합이라고 표현합니다.\n",
    "\n",
    "우리는 이 5가지의 규칙 집합을 이용하여 자동으로 플레이하는 AI를 만들겠습니다."
   ]
  },
  {
   "cell_type": "code",
   "execution_count": 4,
   "id": "49b27b30",
   "metadata": {},
   "outputs": [],
   "source": [
    "from functools import partial, reduce\n",
    "class RuleBasedAI(object):\n",
    "    def __init__(self, board, marker=-1):\n",
    "        self.board      = board\n",
    "        self.board_size = len(board) * len(board[0])\n",
    "        self.rows       = len(board)\n",
    "        self.cols       = len(board[0])\n",
    "        \n",
    "    \n",
    "        self.edges      = [[0,0], [0,2], [2, 0], [2, 2]]\n",
    "        self.sides      = [[0,1], [1,0], [1, 1], [2, 1]]\n",
    "        self.check_lst  = [partial(self.check_win, marker), \n",
    "                           partial(self.check_win, marker*-1),\n",
    "                           self.check_middle,\n",
    "                           self.check_edge, \n",
    "                           self.check_side]\n",
    "    \n",
    "    def view_board(self, board):\n",
    "        self.board = board\n",
    "        \n",
    "    def calc_return(self, r, c):\n",
    "        return (self.rows * r) + c\n",
    "    \n",
    "    def check_middle(self):\n",
    "        r, c = self.rows//2, self.cols//2\n",
    "        if self.board[self.rows//2][self.cols//2] == 0:\n",
    "            return self.calc_return(r, c)\n",
    "        return -1\n",
    "    \n",
    "    def check_edge(self):\n",
    "        for r,c in self.edges:\n",
    "            if self.board[r][c] == 0:\n",
    "                return self.calc_return(r,c)\n",
    "        return -1\n",
    "        \n",
    "    def check_side(self):\n",
    "        for r,c in self.sides:\n",
    "            if self.board[r][c] == 0:\n",
    "                return self.calc_return(r,c)\n",
    "        return -1\n",
    "    \n",
    "    def check_win(self, check_marker):\n",
    "        # Check Rows\n",
    "        for r, row in enumerate(self.board):\n",
    "            if sum(row) == (2 * check_marker):\n",
    "                for c, col in enumerate(row):\n",
    "                    if col == 0:\n",
    "                        return self.calc_return(r,c)\n",
    "            \n",
    "        # Check Columns\n",
    "        for c, col in enumerate(self.board.T):\n",
    "            if sum(col) == (2 * check_marker):\n",
    "                for r, row in enumerate(col):\n",
    "                    if row == 0:\n",
    "                        return self.calc_return(r,c)\n",
    "\n",
    "            \n",
    "        # Check diagonal\n",
    "        di1 = np.trace(self.board)\n",
    "        di2 = np.trace(self.board[..., ::-1])\n",
    "        \n",
    "        if di1 == (2 * check_marker):\n",
    "            for idx, val in enumerate(np.diag(self.board)):\n",
    "                if val == 0 :\n",
    "                    return self.calc_return(idx,idx)\n",
    "                \n",
    "        elif di2 == (2 * check_marker):\n",
    "            for idx, val in enumerate(np.diag(self.board[..., ::-1])):\n",
    "                print(val)\n",
    "                print(idx)\n",
    "                if val == 0 :\n",
    "                    return self.calc_return(idx, (self.cols -1 - idx))\n",
    "        return -1\n",
    "    \n",
    "    def __call__(self, board):\n",
    "        self.view_board(board)\n",
    "        \n",
    "        for func in self.check_lst:\n",
    "            result = func()\n",
    "            if result != -1:\n",
    "                return result\n",
    "            "
   ]
  },
  {
   "cell_type": "markdown",
   "id": "4561de53",
   "metadata": {},
   "source": [
    "## 자동 플레이어 테스트\n",
    "---\n",
    "\n",
    "우리가 코딩한 자동 플레이어가 잘 동작하는지 프로그래밍 해봅시다."
   ]
  },
  {
   "cell_type": "code",
   "execution_count": 5,
   "id": "52bacf3d",
   "metadata": {},
   "outputs": [
    {
     "data": {
      "text/plain": [
       "4"
      ]
     },
     "execution_count": 5,
     "metadata": {},
     "output_type": "execute_result"
    }
   ],
   "source": [
    "Test_Board = np.array([[1,0,0],\n",
    "                       [0,0,0],\n",
    "                       [0,0,0]]) #맵을 바꾸어보세요\n",
    "AI = RuleBasedAI(Test_Board)\n",
    "AI(Test_Board)"
   ]
  },
  {
   "cell_type": "markdown",
   "id": "adfe8373",
   "metadata": {},
   "source": [
    "## 규칙 기반 AI가 들어간 게임 보드 만들기\n",
    "---\n",
    "\n",
    "이제 처음 만들었던 플레이 보드와 AI를 합칠 차례입니다.\n",
    "\n",
    "기본적인 동작은 처음 만들었던 게임 보드와 같습니다.\n",
    "\n",
    "따라서 게임 보드를 상속하여 진행할 예정입니다."
   ]
  },
  {
   "cell_type": "code",
   "execution_count": 6,
   "id": "6da1e651",
   "metadata": {},
   "outputs": [],
   "source": [
    "class GAME_with_AI1(GameBoard):\n",
    "    def __init__(self, marker = -1):\n",
    "        super().__init__()\n",
    "        self.AI_Marker = marker\n",
    "        self.AI        = RuleBasedAI(self.board_state, self.AI_Marker)\n",
    "        \n",
    "    def __call__(self):\n",
    "        while True:\n",
    "            self.clear_output()\n",
    "            self.print_board()\n",
    "            \n",
    "            # Check Who win the game\n",
    "            self.win = self.check_vic()\n",
    "            if self.win:\n",
    "                print(self.win)\n",
    "                break    \n",
    "            \n",
    "            if self.marker == self.AI_Marker:\n",
    "                AI_inputs = self.AI(self.board_state)\n",
    "                self.play_mark(AI_inputs)\n",
    "                \n",
    "            else:\n",
    "                # Print Problem or Information    \n",
    "                if self.result:\n",
    "                    print(self.result)\n",
    "                    \n",
    "                # Input user's play\n",
    "                inputs = int(input(f\"Player {self.draw_mark(self.marker)} : \"))\n",
    "\n",
    "                # Check it can be played?\n",
    "                self.result = self.play_mark(inputs)\n",
    "                if self.result:\n",
    "                    continue\n",
    "    "
   ]
  },
  {
   "cell_type": "markdown",
   "id": "20b3478d",
   "metadata": {},
   "source": [
    "## AI와 게임해보기\n",
    "---\n",
    "\n",
    "우리가 만든 규칙 기반 방식의 인공지능과 게임을 해봅시다!\n",
    "\n",
    "이길 수 있나요?\n",
    "\n",
    "있다면 어떻게 이길 수 있나요?"
   ]
  },
  {
   "cell_type": "code",
   "execution_count": null,
   "id": "4e536967",
   "metadata": {},
   "outputs": [
    {
     "name": "stdout",
     "output_type": "stream",
     "text": [
      "   |   |   \n",
      "---|---|---\n",
      "   |   |   \n",
      "---|---|---\n",
      "   |   |   \n"
     ]
    }
   ],
   "source": [
    "game = GAME_with_AI1()\n",
    "game()"
   ]
  },
  {
   "cell_type": "markdown",
   "id": "b9385fa7",
   "metadata": {},
   "source": [
    "## 규칙 기반 학습\n",
    "---\n",
    "\n",
    "규칙 기반 학습은 말 그대로 규칙 집합의 규칙들을 변경 혹은 추가하여 개선하는 것을 의미합니다.\n",
    "\n",
    "Human Learning이라고도 할 수 있는데, 개발자가 규칙의 문제점을 찾고 이를 개선합니다.\n",
    "\n",
    "개선하는 방법 혹은 규칙을 정의 하는 방법이 여러가지 있으나, 지금은 사람이 직접 경우의 수를 살펴 보는 것으로 개선한다고 가정하겠습니다.\n",
    "\n",
    "현재 우리는 승리 확률에 기반하여 규칙 집합을 정의했고, 거의 완벽한 tic-tac-toe인공지능을 만들었습니다.\n",
    "\n",
    "하지만, 사용자가 첫 수에 모서리 부분에 말을 둔다면, AI는 규칙에 의거하여 가운데에 두게 될 것입니다.\n",
    "\n",
    "아래 그림과 같은 진행은 우리가 원하는 진행이 아닙니다.\n",
    "\n",
    "| 첫번째 수 | 두번째 수 | 세번째 수 | 결과 |\n",
    "| :---: | :---: | :---: | :---: |\n",
    "| <img src=\"img/Chapter04/img1.png\" width=\"100px\" height=\"50px\" title=\"img1\"/> | <img src=\"img/Chapter04/img2.png\" width=\"100px\" height=\"50px\" title=\"img2\"/> | <img src=\"img/Chapter04/img3.png\" width=\"100px\" height=\"50px\" title=\"img3\"/> | <img src=\"img/Chapter04/img4.png\" width=\"100px\" height=\"50px\" title=\"img4\"/> |\n",
    "\n",
    "이를 개선하기 위해 우리는 규칙 집합을 아래와 같이 개선할 수 있습니다.\n",
    "\n",
    "\n",
    "\n",
    "===============  __Tic__ __Tac__ __Toe__ AI 게임 규칙 ==================\n",
    "\n",
    "1. 이길 수 있는 곳이 있으면, 이길 수 있는 곳에 둔다.\n",
    "2. 상대방이 이길 수 있는 곳이 있으면, 상대방이 이길 수 있는 곳에 둔다.\n",
    "3. 첫번째 차례이고, 가운데가 비어 있으면, 가운데에 둔다.\n",
    "4. 두번째 차례이고, 상대방이 모서리에 두었다면, 반대쪽 모서리에 둔다.\n",
    "5. 모서리가 비어있다면, 모서리에 둔다.\n",
    "6. 각 변 중 한곳이 비어있으면 둔다.\n",
    "\n",
    "====================================================\n",
    "\n",
    "\n",
    "이를 구현하기 위해 기존의 규칙 기반 모델을 상속받아 개선해보겠습니다.\n"
   ]
  },
  {
   "cell_type": "code",
   "execution_count": 25,
   "id": "ab39333b",
   "metadata": {},
   "outputs": [],
   "source": [
    "class BetterRuleAI(RuleBasedAI):\n",
    "    def __init__(self, board, marker=-1):\n",
    "        super().__init__(board, marker=-1)\n",
    "        self.check_lst  = [partial(self.check_win, marker), \n",
    "                           partial(self.check_win, marker*-1),\n",
    "                           self.check_first,\n",
    "                           self.check_edge, \n",
    "                           self.check_side]\n",
    "        \n",
    "    def check_first(self):\n",
    "        now_board = reduce(lambda a,b:a+b, [self.board[r][c] for r,c in self.edges])\n",
    "        if self.board.sum() == 0 or now_board == 0:\n",
    "            return self.check_middle()\n",
    "\n",
    "        elif now_board == 1:\n",
    "            for r, c in self.edges:\n",
    "                if self.board[r][c] == 1:\n",
    "                    return self.calc_return(abs(r-2), abs(c-2))\n",
    "        \n",
    "        return -1"
   ]
  },
  {
   "cell_type": "markdown",
   "id": "eb5f9ee2",
   "metadata": {},
   "source": [
    "## 자동 플레이어 테스트\n",
    "---\n",
    "\n",
    "만든 AI가 잘 작동하는지 테스트 해봅시다."
   ]
  },
  {
   "cell_type": "code",
   "execution_count": 26,
   "id": "d0fd4272",
   "metadata": {},
   "outputs": [
    {
     "data": {
      "text/plain": [
       "2"
      ]
     },
     "execution_count": 26,
     "metadata": {},
     "output_type": "execute_result"
    }
   ],
   "source": [
    "Test_Board = np.array([[0,0,0],\n",
    "                       [0,0,0],\n",
    "                       [1,0,0]]) #맵을 바꾸어보세요\n",
    "AI2 = BetterRuleAI(Test_Board)\n",
    "AI2(Test_Board)"
   ]
  },
  {
   "cell_type": "markdown",
   "id": "195da7d5",
   "metadata": {},
   "source": [
    "## 최종 AI 연결\n",
    "---\n",
    "\n",
    "이렇게 만들어진 규칙 기반 AI를 연결합니다.\n",
    "\n",
    "우리는 이런 AI를 규칙 기반 AI라고 합니다.\n",
    "\n",
    "혹은 이러한 규칙 기반 지능형 시스템을 일컬어 전문가 시스템이라고 부릅니다.\n",
    "\n",
    "전문가 시스템(專門家 system, experts system)은 생성시스템의 하나로서, 딥러닝 이전 인공지능 기술의 응용분야 중에서 가장 활발하게 응용되고 있는 분야였습니다.\n",
    "\n",
    "즉 인간이 특정분야에 대하여 가지고 있는 전문적인 지식을 정리하고 표현하여 컴퓨터에 기억시킴으로써, 일반인도 이 전문지식을 이용할 수 있도록 하는 시스템이다. \n",
    "\n",
    "의료 진단 시스템, 설계 시스템 등에서 활발하게 사용되었습니다."
   ]
  },
  {
   "cell_type": "code",
   "execution_count": 27,
   "id": "4c2c0b1c",
   "metadata": {},
   "outputs": [],
   "source": [
    "class GAME_with_AI2(GAME_with_AI1):\n",
    "    def __init__(self, marker=-1):\n",
    "        super().__init__(marker = -1)\n",
    "        self.AI        = BetterRuleAI(self.board_state, self.AI_Marker)"
   ]
  },
  {
   "cell_type": "code",
   "execution_count": 28,
   "id": "602fd3f2",
   "metadata": {},
   "outputs": [
    {
     "name": "stdout",
     "output_type": "stream",
     "text": [
      " O | X | X \n",
      "---|---|---\n",
      " X | O | O \n",
      "---|---|---\n",
      " O | O | X \n",
      "Draw!\n"
     ]
    }
   ],
   "source": [
    "game2 = GAME_with_AI2()\n",
    "game2()"
   ]
  }
 ],
 "metadata": {
  "kernelspec": {
   "display_name": "Python 3 (ipykernel)",
   "language": "python",
   "name": "python3"
  },
  "language_info": {
   "codemirror_mode": {
    "name": "ipython",
    "version": 3
   },
   "file_extension": ".py",
   "mimetype": "text/x-python",
   "name": "python",
   "nbconvert_exporter": "python",
   "pygments_lexer": "ipython3",
   "version": "3.9.13"
  }
 },
 "nbformat": 4,
 "nbformat_minor": 5
}
