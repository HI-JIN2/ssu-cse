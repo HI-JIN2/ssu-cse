{
 "cells": [
  {
   "attachments": {},
   "cell_type": "markdown",
   "metadata": {},
   "source": [
    "# K-Means 군집화 알고리즘으로 배우는 비지도학습 기초\n",
    "## 비지도학습\n",
    "### 군집화 (클러스터링)\n",
    "붓꽃 데이터셋\n"
   ]
  },
  {
<<<<<<< HEAD
   "attachments": {},
   "cell_type": "markdown",
   "metadata": {},
   "source": [
    "# 전처리"
   ]
  },
  {
   "cell_type": "code",
   "execution_count": 27,
=======
   "cell_type": "code",
   "execution_count": 2,
>>>>>>> 48b3f2bb9846a2e5c199efce7deeb200eb3244bb
   "metadata": {},
   "outputs": [],
   "source": [
    "import time\n",
    "import os, sys\n",
    "import numpy as np\n",
    "import pandas as pd\n",
    "import matplotlib.pyplot as plt\n",
    "from sklearn.datasets import make_blobs\n",
    " "
   ]
  },
  {
   "cell_type": "code",
<<<<<<< HEAD
   "execution_count": 28,
   "metadata": {},
   "outputs": [],
=======
   "execution_count": 3,
   "metadata": {},
   "outputs": [
    {
     "ename": "NameError",
     "evalue": "name 'make_blobs' is not defined",
     "output_type": "error",
     "traceback": [
      "\u001b[1;31m---------------------------------------------------------------------------\u001b[0m",
      "\u001b[1;31mNameError\u001b[0m                                 Traceback (most recent call last)",
      "\u001b[1;32mC:\\Users\\Public\\Documents\\ESTsoft\\CreatorTemp/ipykernel_59340/484894831.py\u001b[0m in \u001b[0;36m<module>\u001b[1;34m\u001b[0m\n\u001b[1;32m----> 1\u001b[1;33m X,y = make_blobs(n_samples=150,\n\u001b[0m\u001b[0;32m      2\u001b[0m                  \u001b[0mn_features\u001b[0m\u001b[1;33m=\u001b[0m\u001b[1;36m2\u001b[0m\u001b[1;33m,\u001b[0m\u001b[1;33m\u001b[0m\u001b[1;33m\u001b[0m\u001b[0m\n\u001b[0;32m      3\u001b[0m                  \u001b[0mcenters\u001b[0m\u001b[1;33m=\u001b[0m\u001b[1;36m3\u001b[0m\u001b[1;33m,\u001b[0m\u001b[1;33m\u001b[0m\u001b[1;33m\u001b[0m\u001b[0m\n\u001b[0;32m      4\u001b[0m                  \u001b[0mcluster_std\u001b[0m\u001b[1;33m=\u001b[0m\u001b[1;36m0.5\u001b[0m\u001b[1;33m,\u001b[0m\u001b[1;33m\u001b[0m\u001b[1;33m\u001b[0m\u001b[0m\n\u001b[0;32m      5\u001b[0m                  \u001b[0mshuffle\u001b[0m\u001b[1;33m=\u001b[0m\u001b[1;32mTrue\u001b[0m\u001b[1;33m,\u001b[0m\u001b[1;33m\u001b[0m\u001b[1;33m\u001b[0m\u001b[0m\n",
      "\u001b[1;31mNameError\u001b[0m: name 'make_blobs' is not defined"
     ]
    }
   ],
>>>>>>> 48b3f2bb9846a2e5c199efce7deeb200eb3244bb
   "source": [
    "X,y = make_blobs(n_samples=150,\n",
    "                 n_features=2,\n",
    "                 centers=3,\n",
    "                 cluster_std=0.5,\n",
    "                 shuffle=True,\n",
    "                 random_state=0)"
   ]
  },
  {
   "cell_type": "code",
<<<<<<< HEAD
   "execution_count": 29,
   "metadata": {},
   "outputs": [
    {
     "data": {
      "image/png": "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",
      "text/plain": [
       "<Figure size 432x288 with 1 Axes>"
      ]
     },
     "metadata": {
      "needs_background": "light"
     },
     "output_type": "display_data"
    }
   ],
   "source": [
    "%matplotlib inline\n",
    "\n",
    "plt.figure()\n",
    "plt.scatter(X[:,0],\n",
    "            X[:,1],\n",
    "            c=\"white\",\n",
    "            marker='o',\n",
    "            edgecolors='black',\n",
    "            s=50)\n",
    "plt.grid()\n",
    "plt.tight_layout()\n",
    "plt.show()"
   ]
  },
  {
   "cell_type": "code",
   "execution_count": 30,
   "metadata": {},
   "outputs": [
    {
     "name": "stdout",
     "output_type": "stream",
     "text": [
      "[3.24683991 5.27917503]\n",
      "[-2.54224625 -0.21403792]\n",
      "[0.46781757 2.74598363]\n",
      "[1.60748702 1.47444374]\n",
      "[1 0 0 0 1 0 0 1 2 0 1 2 2 0 0 2 2 1 2 1 0 1 0 0 2 1 1 0 2 1 2 2 2 2 0 1 1\n",
      " 1 0 0 2 2 0 1 1 1 2 0 2 0 1 0 0 1 1 2 0 1 2 0 2 2 2 2 0 2 0 1 0 0 0 1 1 0\n",
      " 1 0 0 2 2 0 1 1 0 0 1 1 1 2 2 1 1 0 1 0 1 0 2 2 1 1 1 1 2 1 1 0 2 0 0 0 2\n",
      " 0 1 2 0 2 0 0 2 2 0 1 0 0 1 1 2 1 2 2 2 2 1 2 2 2 0 2 1 2 0 0 1 1 2 2 2 2\n",
      " 1 1]\n"
     ]
    }
   ],
   "source": [
    "print(X.max(axis=0))\n",
    "print(X.min(axis=0))\n",
    "print(X.mean(axis=0))\n",
    "print(X.std(axis=0))\n",
    "print(y)"
   ]
  },
  {
   "attachments": {},
   "cell_type": "markdown",
   "metadata": {},
   "source": [
    "# 학습 알고리즘 만들기"
   ]
  },
  {
   "cell_type": "code",
   "execution_count": 31,
   "metadata": {},
   "outputs": [],
   "source": [
    "class KMeans(object):\n",
    "    def __init__(self, n_clusters: int,\n",
    "                 max_iter: int = 300,\n",
    "                 tol: int = 1e-04):\n",
    "        self.n_clusters = n_clusters\n",
    "        self.max_iter = max_iter\n",
    "        self.tol = tol\n",
    "        self.data_mean = np.array([0.468, 2.746])\n",
    "        self.data_std = np.array([1.607, 1.474])\n",
    "        self.colors = [\"lightgreen\", \"oragnge\", \"lightblue\"]\n",
    "\n",
    "\n",
    "    #초기 센트로이드 할당하기\n",
    "    def init_centroid(self, x):\n",
    "        len_x = x.shape[0]\n",
    "        sel_index = np.random.randint(len_x, size=3)\n",
    "        return x[sel_index, :]\n",
    "\n",
    "\n",
    "    #거리만들기\n",
    "    def squared_euclidean_distance(self, c: np.array, x: np.array) -> np.array:\n",
    "        return np.sum(np.square(c-x), axis=1)\n",
    "\n",
    "\n",
    "    #센트로이드 할당하기\n",
    "    def inference_label(self, x):\n",
    "        euclidean_mat = np.zeros((x.shape[0], self.n_clusters))\n",
    "\n",
    "        for i in range(self.n_clusters):\n",
    "            euclidean_mat[:, i] = self.squared_euclidean_distance(\n",
    "                self.centroid[i, :], x)\n",
    "        return np.argmax(euclidean_mat, axis=1)\n",
    "\n",
    "\n",
    "    #센트로이드 움직이기\n",
    "    def move_centroid(self, x):\n",
    "        for idx, cent in enumerate(self.centroid):\n",
    "            now = x[self.inf == idx]\n",
    "            if not len(now) == 0:\n",
    "                self.centrod[idx, :] = now.mean(axis=0)\n",
    "\n",
    "\n",
    "    #SSE 계산하기\n",
    "    def calc_sse(self, x) -> np.float32:\n",
    "        sse = 0\n",
    "        for idx, cent in enumerate(self.centroid):\n",
    "            sse += self.squared_euclidean_distance(\n",
    "                self.centroid[idx, :], x[self.inf == idx]).sum()\n",
    "        return sse\n",
    "\n",
    "\n",
    "    #비주얼 라이즈하기\n",
    "    def logger(self, n, sse):\n",
    "        strings = f\"K-Means Clustering Iter {n} | SSE {sse}\"\n",
    "        for idx, cent in enumerate(self.centroid):\n",
    "            string += f\"| Centroid {idx} {cent}\"\n",
    "        print(strings)\n",
    "\n",
    "    def visualize(self, X, n ,sse):\n",
    "        time.sleep(1)\n",
    "        clear_output()\n",
    "        plt.figure()\n",
    "\n",
    "        for idx, color in enumerate(self.colors):\n",
    "            plt.scatter(X[self.inf == idx][:0],\n",
    "                        X[self.inf == idx][:,1],\n",
    "                        c=color,\n",
    "                        marker='o',\n",
    "                        edgecolors='black',\n",
    "                        s=50,\n",
    "                        label=f\"cluster{idx}\")\n",
    "            plt.scatter(self.centroid[:0],\n",
    "                        self.centroid[:,1],\n",
    "                        c=\"red\",\n",
    "                        marker=\"*\",\n",
    "                        edgecolors=\"black\",\n",
    "                        s=150,\n",
    "                        label=\"centroid\")\n",
    "            plt.grid()\n",
    "            plt.legend()\n",
    "            plt.title(f\"Iter {n}. SSE {sse}\")\n",
    "            plt.tight_layout()\n",
    "            plt.show()\n",
    "\n",
    "\n",
    "    #연결하기\n",
    "    def __call__(self, x):\n",
    "        self.centroid = self.init_centroid(x)\n",
    "        self.old_inf=np.zeros_like(y)-1\n",
    "\n",
    "        for n in range(self.max_iter):\n",
    "            self.inf = self.inference_label(x)\n",
    "            self.move_centroid(x)\n",
    "            sse=self.calc_sse(x)\n",
    "            self.visualize(x,n,sse)\n",
    "            if(sse<=self.tol) or (self.old_inf==self.inf).all():\n",
    "                break\n",
    "            self.old_inf=self.int\n",
    "        return self.centroid"
   ]
  },
  {
   "attachments": {},
   "cell_type": "markdown",
   "metadata": {},
   "source": [
    "# K-MEANS ++"
   ]
  },
  {
   "cell_type": "code",
   "execution_count": 32,
   "metadata": {},
   "outputs": [],
   "source": [
    "class KMeansPP(object):\n",
    "    def __init__(self, n_clusters: int,\n",
    "                 n_init: int = 5,\n",
    "                 max_iter: int = 300,\n",
    "                 tol: int = 1e-04):\n",
    "        self.n_clusters = n_clusters\n",
    "        self.n_init = n_init\n",
    "        self.max_iter = max_iter\n",
    "        self.tol = tol\n",
    "        self.data_mean = np.array([0.468, 2.746])\n",
    "        self.data_std = np.array([1.607, 1.474])\n",
    "        self.colors = [\"lightgreen\", \"oragnge\", \"lightblue\"]\n",
    "\n",
    "    def squared_euclidean_distance(self, c: np.array, x: np.array) -> np.array:\n",
    "        if len(np.shape(c)) == 1:\n",
    "            return np.sum(np.square(c-x), axis=1)\n",
    "        elif len(np.shape(x)) == 2:\n",
    "            return np.sum(np.square(c[:, np.newaxis, :] - x[np.newaxis, :, :]), axis=2)\n",
    "        else:\n",
    "            return np.sum(np.square(c[:, np.newaxis, :]-x), axis=2)\n",
    "\n",
    "    # 초기 센트로이드 할당하기\n",
    "\n",
    "    def init_centroid(self, x):\n",
    "        len_x = x.shape[0]\n",
    "        sel_index = np.random.randint(len_x, size=1)\n",
    "        M = x[sel_index, :]\n",
    "        x = np.delete(x, sel_index, 0)\n",
    "\n",
    "        for k in range(self.n_clusters-1):\n",
    "            len_x = x.shape[0]\n",
    "            U = self.squared_euclidean_distance(M, x).min(axis=0)\n",
    "            D = U.sum()\n",
    "            dist_mat = U/D\n",
    "            sel_index = [dist_mat.argmax(axis=0)]\n",
    "            M = np.append(M, x[sel_index, 0])\n",
    "            x = np.delete(x, sel_index, 0)\n",
    "        return M\n",
    "\n",
    "    # 센트로이드 할당하기\n",
    "\n",
    "    def inference_label(self, x):\n",
    "        euclidean_mat = np.zeros((self.n_init, x.shape[0], self.n_clusters))\n",
    "        for i in range(self.n_clusters):\n",
    "            euclidean_mat[:, :, i] = self.squared_euclidean_distance(\n",
    "                self.centroid[:, i, :], x)\n",
    "        return np.argmax(euclidean_mat, axis=2)\n",
    "\n",
    "    # 센트로이드 움직이기\n",
    "\n",
    "    def move_centroid(self, x):\n",
    "        for idx, (inf, cent) in enumerate(zip(self.inf, self.centroid)):\n",
    "            for i in range(self.n_clusters):\n",
    "                now = x[inf == i]\n",
    "                if not len(now) == 0:\n",
    "                    self.centroid[idx, i, :] = now.mean(axis=0)\n",
    "\n",
    "    # SSE 계산하기\n",
    "\n",
    "    def calc_sse(self, x) -> np.float32:\n",
    "        sse = np.array([0. for _ in range(self.n_init)])\n",
    "        for idx, (inf, cent) in enumerate(zip(self.inf, self.centroid)):\n",
    "            for i in range(self.n_clusters):\n",
    "                sse[idx] += self.squared_euclidean_distance(\n",
    "                    cent[i, :], x[inf == i]).sum()\n",
    "        return sse\n",
    "\n",
    "    # 비주얼 라이즈하기\n",
    "\n",
    "    def logger(self, n, sse):\n",
    "        strings = f\"K-Means Clustering Iter {n} | SSE {sse}\"\n",
    "        for idx, cent in enumerate(self.centroid):\n",
    "            string += f\"| Centroid {idx} {cent}\"\n",
    "        print(strings)\n",
    "\n",
    "    def visualize(self, X, n, sse):\n",
    "        time.sleep(1)\n",
    "        clear_output()\n",
    "        fig, ax = plt.subplots(self.n_init//3+1, 3, figsize=(16, 8))\n",
    "        plt.title(\"Multiple K-Means++\")\n",
    "        for i in range(self.n_init):\n",
    "            rows = i//3\n",
    "            cols = i % 3\n",
    "            for idx, color in enumerate(self.colors):\n",
    "                ax[rows, cols].scatter(X[self.inf[i, ...] == idx][:, 0],\n",
    "                                       c=color,\n",
    "                                       marker='o',\n",
    "                                       edgecolors='black',\n",
    "                                       s=50,\n",
    "                                       label=f\"cluster{idx}\")\n",
    "            ax[rows,cols].scatter(self.centroid[i,:,0],\n",
    "                        self.centroid[i,:, 1],\n",
    "                        c=\"red\",\n",
    "                        marker=\"*\",\n",
    "                        edgecolors=\"black\",\n",
    "                        s=150,\n",
    "                        label=\"centroid\")\n",
    "            ax[rows,cols].grid()\n",
    "            ax[rows,cols].legend()\n",
    "            ax[rows,cols].set_title(f\"Iter {n}, init{i} SSE {sse[i]:.4f}\")\n",
    "        plt.tight_layout()\n",
    "        plt.show()\n",
    "\n",
    "    # 연결하기\n",
    "\n",
    "    def __call__(self, x):\n",
    "        self.centroid = np.array([self.init_centroid(x) for _ in range(self.n_init)])\n",
    "        self.old_inf = np.zeros_like(y)-1\n",
    "\n",
    "        for n in range(self.max_iter):\n",
    "            self.inf = self.inference_label(x)\n",
    "            self.move_centroid(x)\n",
    "            sse = self.calc_sse(x)\n",
    "            self.visualize(x, n, sse)\n",
    "            if(sse <= self.tol).any() or (self.old_inf == self.inf).all():\n",
    "                break\n",
    "            self.old_inf = self.int\n",
    "        return self.centroid[sse.argmin()]\n"
   ]
  },
  {
   "cell_type": "code",
   "execution_count": 33,
   "metadata": {},
   "outputs": [],
   "source": [
    "from sklearn.cluster import KMeans\n",
    "km = KMeans(n_clusters=3,\n",
    "            init=\"k-means++\",\n",
    "            n_init=10,\n",
    "            max_iter=300,\n",
    "            random_state=0)\n",
    "y_km=km.fit_predict(X)"
   ]
  },
  {
   "cell_type": "code",
   "execution_count": 34,
   "metadata": {},
   "outputs": [
    {
     "data": {
      "text/plain": [
       "array([0, 2, 2, 2, 0, 2, 2, 0, 1, 2, 0, 1, 1, 2, 2, 1, 1, 0, 1, 0, 2, 0,\n",
       "       2, 2, 1, 0, 0, 2, 1, 0, 1, 1, 1, 1, 2, 0, 0, 0, 2, 2, 1, 1, 2, 0,\n",
       "       0, 0, 1, 2, 1, 2, 0, 2, 2, 0, 0, 1, 2, 0, 1, 2, 1, 1, 1, 1, 2, 1,\n",
       "       2, 0, 2, 2, 2, 0, 0, 2, 0, 2, 2, 1, 1, 2, 0, 0, 2, 2, 0, 0, 0, 1,\n",
       "       1, 0, 0, 2, 0, 2, 0, 2, 1, 1, 0, 0, 0, 0, 1, 0, 0, 2, 1, 2, 2, 2,\n",
       "       1, 2, 0, 1, 2, 1, 2, 2, 1, 1, 2, 0, 2, 2, 0, 0, 1, 0, 1, 1, 1, 1,\n",
       "       0, 1, 1, 1, 2, 1, 0, 1, 2, 2, 0, 0, 1, 1, 1, 1, 0, 0])"
      ]
     },
     "execution_count": 34,
     "metadata": {},
     "output_type": "execute_result"
    }
   ],
   "source": [
    "y_km"
   ]
  },
  {
   "cell_type": "code",
   "execution_count": 35,
   "metadata": {},
   "outputs": [
    {
     "data": {
      "text/plain": [
       "array([[ 2.06521743,  0.96137409],\n",
       "       [-1.5947298 ,  2.92236966],\n",
       "       [ 0.9329651 ,  4.35420712]])"
      ]
     },
     "execution_count": 35,
     "metadata": {},
     "output_type": "execute_result"
    }
   ],
   "source": [
    "km.cluster_centers_"
   ]
=======
   "execution_count": null,
   "metadata": {},
   "outputs": [],
   "source": []
>>>>>>> 48b3f2bb9846a2e5c199efce7deeb200eb3244bb
  }
 ],
 "metadata": {
  "kernelspec": {
   "display_name": "Python 3",
   "language": "python",
   "name": "python3"
  },
  "language_info": {
   "codemirror_mode": {
    "name": "ipython",
    "version": 3
   },
   "file_extension": ".py",
   "mimetype": "text/x-python",
   "name": "python",
   "nbconvert_exporter": "python",
   "pygments_lexer": "ipython3",
   "version": "3.9.2"
  },
  "orig_nbformat": 4
 },
 "nbformat": 4,
 "nbformat_minor": 2
}
