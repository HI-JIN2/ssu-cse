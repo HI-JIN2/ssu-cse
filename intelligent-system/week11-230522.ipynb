{
 "cells": [
  {
   "attachments": {},
   "cell_type": "markdown",
   "metadata": {},
   "source": [
    "# KNN"
   ]
  },
  {
   "attachments": {},
   "cell_type": "markdown",
   "metadata": {},
   "source": [
    "# 붓꽃 데이터 살펴보기"
   ]
  },
  {
   "cell_type": "code",
   "execution_count": 2,
   "metadata": {},
   "outputs": [],
   "source": [
    "import os, sys\n",
    "import numpy as np\n",
    "import pandas as pd\n",
    "import matplotlib.pyplot as plt\n",
    "from collections import Counter"
   ]
  },
  {
   "cell_type": "code",
   "execution_count": 33,
   "metadata": {},
   "outputs": [
    {
     "name": "stdout",
     "output_type": "stream",
     "text": [
      "       0              1             2              3             4  \\\n",
      "0     Id  SepalLengthCm  SepalWidthCm  PetalLengthCm  PetalWidthCm   \n",
      "1      1            5.1           3.5            1.4           0.2   \n",
      "2      2            4.9           3.0            1.4           0.2   \n",
      "3      3            4.7           3.2            1.3           0.2   \n",
      "4      4            4.6           3.1            1.5           0.2   \n",
      "..   ...            ...           ...            ...           ...   \n",
      "146  146            6.7           3.0            5.2           2.3   \n",
      "147  147            6.3           2.5            5.0           1.9   \n",
      "148  148            6.5           3.0            5.2           2.0   \n",
      "149  149            6.2           3.4            5.4           2.3   \n",
      "150  150            5.9           3.0            5.1           1.8   \n",
      "\n",
      "                  5  \n",
      "0           Species  \n",
      "1       Iris-setosa  \n",
      "2       Iris-setosa  \n",
      "3       Iris-setosa  \n",
      "4       Iris-setosa  \n",
      "..              ...  \n",
      "146  Iris-virginica  \n",
      "147  Iris-virginica  \n",
      "148  Iris-virginica  \n",
      "149  Iris-virginica  \n",
      "150  Iris-virginica  \n",
      "\n",
      "[151 rows x 6 columns]\n"
     ]
    }
   ],
   "source": [
    "iris_df = pd.read_csv(\"Iris.csv\",header=None)\n",
    "print(iris_df)"
   ]
  },
  {
   "cell_type": "code",
   "execution_count": 34,
   "metadata": {},
   "outputs": [
    {
     "name": "stdout",
     "output_type": "stream",
     "text": [
      "    0              1             2              3             4            5\n",
      "0  Id  SepalLengthCm  SepalWidthCm  PetalLengthCm  PetalWidthCm      Species\n",
      "1   1            5.1           3.5            1.4           0.2  Iris-setosa\n",
      "2   2            4.9           3.0            1.4           0.2  Iris-setosa\n",
      "3   3            4.7           3.2            1.3           0.2  Iris-setosa\n",
      "4   4            4.6           3.1            1.5           0.2  Iris-setosa\n"
     ]
    }
   ],
   "source": [
    "print(iris_df.head())"
   ]
  },
  {
   "cell_type": "code",
   "execution_count": 15,
   "metadata": {},
   "outputs": [
    {
     "name": "stdout",
     "output_type": "stream",
     "text": [
      "(151, 6)\n"
     ]
    }
   ],
   "source": [
    "print(iris_df.shape) #(150,5)"
   ]
  },
  {
   "cell_type": "code",
   "execution_count": 40,
   "metadata": {},
   "outputs": [],
   "source": [
    "y= iris_df.iloc[ 1: , 5].values\n",
    "X= iris_df.iloc[ 1: , 1:5].values"
   ]
  },
  {
   "cell_type": "code",
   "execution_count": 41,
   "metadata": {},
   "outputs": [
    {
     "name": "stdout",
     "output_type": "stream",
     "text": [
      "(150, 4)\n",
      "(150,)\n"
     ]
    }
   ],
   "source": [
    "print(X.shape)\n",
    "print(y.shape)"
   ]
  },
  {
   "attachments": {},
   "cell_type": "markdown",
   "metadata": {},
   "source": [
    "## 레이블링 인코딩"
   ]
  },
  {
   "cell_type": "code",
   "execution_count": 43,
   "metadata": {},
   "outputs": [
    {
     "name": "stdout",
     "output_type": "stream",
     "text": [
      "{'Iris-versicolor', 'Iris-setosa', 'Iris-virginica'}\n"
     ]
    }
   ],
   "source": [
    "label_1st =list(set(y))\n",
    "label_dict = {label_name: label_index for label_index, label_name in enumerate(label_1st)}\n",
    "Y = [label_dict[name] for name in y]\n",
    "print(set(y))"
   ]
  },
  {
   "cell_type": "code",
   "execution_count": 44,
   "metadata": {},
   "outputs": [
    {
     "name": "stdout",
     "output_type": "stream",
     "text": [
      "{'Iris-versicolor': 0, 'Iris-setosa': 1, 'Iris-virginica': 2}\n"
     ]
    }
   ],
   "source": [
    "print(label_dict)"
   ]
  },
  {
   "cell_type": "code",
   "execution_count": 45,
   "metadata": {},
   "outputs": [
    {
     "name": "stdout",
     "output_type": "stream",
     "text": [
      "[1, 1, 1, 1, 1, 1, 1, 1, 1, 1, 1, 1, 1, 1, 1, 1, 1, 1, 1, 1, 1, 1, 1, 1, 1, 1, 1, 1, 1, 1, 1, 1, 1, 1, 1, 1, 1, 1, 1, 1, 1, 1, 1, 1, 1, 1, 1, 1, 1, 1, 0, 0, 0, 0, 0, 0, 0, 0, 0, 0, 0, 0, 0, 0, 0, 0, 0, 0, 0, 0, 0, 0, 0, 0, 0, 0, 0, 0, 0, 0, 0, 0, 0, 0, 0, 0, 0, 0, 0, 0, 0, 0, 0, 0, 0, 0, 0, 0, 0, 0, 2, 2, 2, 2, 2, 2, 2, 2, 2, 2, 2, 2, 2, 2, 2, 2, 2, 2, 2, 2, 2, 2, 2, 2, 2, 2, 2, 2, 2, 2, 2, 2, 2, 2, 2, 2, 2, 2, 2, 2, 2, 2, 2, 2, 2, 2, 2, 2, 2, 2]\n"
     ]
    }
   ],
   "source": [
    "print(Y)"
   ]
  },
  {
   "cell_type": "code",
   "execution_count": 46,
   "metadata": {},
   "outputs": [],
   "source": [
    "from typing import Any\n",
    "\n",
    "\n",
    "class randomSplit(object):\n",
    "    def __init__(self,datasets, labels, split_rate=0.8) :\n",
    "        self.dataset = datasets\n",
    "        self.lables=labels\n",
    "        self.split_rate=split_rate\n",
    "        self.make_index()\n",
    "\n",
    "    def make_index(self):\n",
    "        cls_inx_1st = np.arange(0,150).reshape(3,-1)\n",
    "        list(map(np.random.shuffle, cls_inx_1st))\n",
    "\n",
    "        n_cls, n_instance = np.shape(cls_inx_1st)\n",
    "        train_value = int(n_instance*self.split_rate)\n",
    "\n",
    "        self.train_1st =cls_inx_1st[:, :train_value].flatten()\n",
    "        self.valid_1st =cls_inx_1st[:, :train_value:].flatten()\n",
    "\n",
    "    def shuffle(self):\n",
    "        np.random.shuffle(self.train_1st)\n",
    "        np.random.shuffle(self.valid_1st)\n",
    "    def __call__(self):\n",
    "        return (self.dataset[self.train_1st, : ],self.lables[self.train_1st]) ,\\\n",
    "        (self.dataset[self.valid_1st, :],self.lables[self.valid_1st, :])"
   ]
  },
  {
   "cell_type": "code",
   "execution_count": 47,
   "metadata": {},
   "outputs": [],
   "source": [
    "def euclidean_distance(x:np.array, y:np.array)->np.array:\n",
    "    return np.sort(np.sum(np.square(x-y), axis=1)).T"
   ]
  },
  {
   "cell_type": "code",
   "execution_count": 49,
   "metadata": {},
   "outputs": [
    {
     "ename": "NameError",
     "evalue": "name 'train' is not defined",
     "output_type": "error",
     "traceback": [
      "\u001b[1;31m---------------------------------------------------------------------------\u001b[0m",
      "\u001b[1;31mNameError\u001b[0m                                 Traceback (most recent call last)",
      "\u001b[1;32mC:\\Users\\Public\\Documents\\ESTsoft\\CreatorTemp/ipykernel_40272/2157199099.py\u001b[0m in \u001b[0;36m<module>\u001b[1;34m\u001b[0m\n\u001b[0;32m     18\u001b[0m         \u001b[0minf_name\u001b[0m\u001b[1;33m=\u001b[0m\u001b[0mself\u001b[0m\u001b[1;33m.\u001b[0m\u001b[0mlabel2name\u001b[0m\u001b[1;33m[\u001b[0m\u001b[0minf_labels\u001b[0m\u001b[1;33m]\u001b[0m\u001b[1;33m\u001b[0m\u001b[1;33m\u001b[0m\u001b[0m\n\u001b[0;32m     19\u001b[0m \u001b[1;33m\u001b[0m\u001b[0m\n\u001b[1;32m---> 20\u001b[1;33m \u001b[0mknn\u001b[0m\u001b[1;33m=\u001b[0m\u001b[0mKNN\u001b[0m\u001b[1;33m(\u001b[0m\u001b[1;36m3\u001b[0m\u001b[1;33m,\u001b[0m\u001b[0mtrain\u001b[0m\u001b[1;33m[\u001b[0m\u001b[1;36m0\u001b[0m\u001b[1;33m]\u001b[0m\u001b[1;33m,\u001b[0m\u001b[0mtrain\u001b[0m\u001b[1;33m[\u001b[0m\u001b[1;36m1\u001b[0m\u001b[1;33m]\u001b[0m\u001b[1;33m)\u001b[0m\u001b[1;33m\u001b[0m\u001b[1;33m\u001b[0m\u001b[0m\n\u001b[0m\u001b[0;32m     21\u001b[0m \u001b[0mprint\u001b[0m\u001b[1;33m(\u001b[0m\u001b[0mknn\u001b[0m\u001b[1;33m(\u001b[0m\u001b[0mvalid\u001b[0m\u001b[1;33m[\u001b[0m\u001b[1;36m0\u001b[0m\u001b[1;33m]\u001b[0m\u001b[1;33m[\u001b[0m\u001b[1;36m0\u001b[0m\u001b[1;33m]\u001b[0m\u001b[1;33m)\u001b[0m\u001b[1;33m)\u001b[0m\u001b[1;33m\u001b[0m\u001b[1;33m\u001b[0m\u001b[0m\n\u001b[0;32m     22\u001b[0m \u001b[0mprint\u001b[0m\u001b[1;33m(\u001b[0m\u001b[0mvalid\u001b[0m\u001b[1;33m[\u001b[0m\u001b[1;36m1\u001b[0m\u001b[1;33m]\u001b[0m\u001b[1;33m,\u001b[0m\u001b[1;33m[\u001b[0m\u001b[1;36m0\u001b[0m\u001b[1;33m]\u001b[0m\u001b[1;33m)\u001b[0m\u001b[1;33m\u001b[0m\u001b[1;33m\u001b[0m\u001b[0m\n",
      "\u001b[1;31mNameError\u001b[0m: name 'train' is not defined"
     ]
    }
   ],
   "source": [
    "from typing import Any\n",
    "\n",
    "\n",
    "class KNN :\n",
    "    def __init__(self, k: int, datasets:np.array, labels:np.array ) -> None:\n",
    "        self.k=k\n",
    "        self.datasets=datasets\n",
    "        self.labels=labels\n",
    "        self.compute=euclidean_distance\n",
    "        self.label2name={j:i for i, j in label_dict.items()}\n",
    "\n",
    "    def __call__(self,data:np.array) -> np.array:\n",
    "        distance=self.compute(data,self.datasets)\n",
    "        score_idx =np.argsort(distance)[:self.k]\n",
    "        k_labels=self.labels[score_idx]\n",
    "        k_counts=Counter(k_labels)\n",
    "        inf_labels=list(k_counts.keys())[0]\n",
    "        inf_name=self.label2name[inf_labels]    \n",
    "        return inf_labels,inf_name\n",
    "\n",
    "knn=KNN(3,train[0],train[1])\n",
    "print(knn(valid[0][0]))\n",
    "print(valid[1],[0])\n",
    "split = randomSplit(X,Y)\n",
    "split()"
   ]
  },
  {
   "cell_type": "code",
   "execution_count": 48,
   "metadata": {},
   "outputs": [],
   "source": [
    "def Accuracy(x:np.array, y:np.array)->float:\n",
    "    n=len(x)\n",
    "    count=np.sum(np.array(x==y).astype(np.int64))\n",
    "    return (count/n)*100"
   ]
  },
  {
   "cell_type": "code",
   "execution_count": null,
   "metadata": {},
   "outputs": [],
   "source": []
  }
 ],
 "metadata": {
  "kernelspec": {
   "display_name": "Python 3",
   "language": "python",
   "name": "python3"
  },
  "language_info": {
   "codemirror_mode": {
    "name": "ipython",
    "version": 3
   },
   "file_extension": ".py",
   "mimetype": "text/x-python",
   "name": "python",
   "nbconvert_exporter": "python",
   "pygments_lexer": "ipython3",
   "version": "3.9.2"
  },
  "orig_nbformat": 4
 },
 "nbformat": 4,
 "nbformat_minor": 2
}
